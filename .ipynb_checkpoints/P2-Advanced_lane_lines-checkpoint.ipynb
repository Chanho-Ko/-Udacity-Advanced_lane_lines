{
 "cells": [
  {
   "cell_type": "markdown",
   "metadata": {},
   "source": [
    "## Advanced Lane Finding Project\n",
    "\n",
    "The goals / steps of this project are the following:\n",
    "\n",
    "* Compute the camera calibration matrix and distortion coefficients given a set of chessboard images.\n",
    "* Apply a distortion correction to raw images.\n",
    "* Use color transforms, gradients, etc., to create a thresholded binary image.\n",
    "* Apply a perspective transform to rectify binary image (\"birds-eye view\").\n",
    "* Detect lane pixels and fit to find the lane boundary.\n",
    "* Determine the curvature of the lane and vehicle position with respect to center.\n",
    "* Warp the detected lane boundaries back onto the original image.\n",
    "* Output visual display of the lane boundaries and numerical estimation of lane curvature and vehicle position.\n",
    "\n",
    "---\n",
    "## First, I'll compute the camera calibration using chessboard images"
   ]
  },
  {
   "cell_type": "code",
   "execution_count": 1,
   "metadata": {},
   "outputs": [],
   "source": [
    "import numpy as np\n",
    "import cv2\n",
    "import glob\n",
    "import matplotlib.pyplot as plt\n",
    "%matplotlib qt\n",
    "\n",
    "# prepare object points, like (0,0,0), (1,0,0), (2,0,0) ....,(6,5,0)\n",
    "objp = np.zeros((6*9,3), np.float32)\n",
    "objp[:,:2] = np.mgrid[0:9,0:6].T.reshape(-1,2)\n",
    "\n",
    "# Arrays to store object points and image points from all the images.\n",
    "objpoints = [] # 3d points in real world space\n",
    "imgpoints = [] # 2d points in image plane.\n",
    "\n",
    "# Make a list of calibration images\n",
    "images = glob.glob('./camera_cal/calibration*.jpg')\n",
    "\n",
    "# Step through the list and search for chessboard corners\n",
    "for fname in images:\n",
    "    img = cv2.imread(fname)\n",
    "    gray = cv2.cvtColor(img,cv2.COLOR_BGR2GRAY)\n",
    "\n",
    "    # Find the chessboard corners\n",
    "    ret, corners = cv2.findChessboardCorners(gray, (9,6),None)\n",
    "\n",
    "    # If found, add object points, image points\n",
    "    if ret == True:\n",
    "        objpoints.append(objp)\n",
    "        imgpoints.append(corners)\n",
    "\n",
    "        # Draw and display the corners\n",
    "        img = cv2.drawChessboardCorners(img, (9,6), corners, ret)\n",
    "        cv2.imshow('img',img)\n",
    "        cv2.waitKey(100)\n",
    "\n",
    "cv2.destroyAllWindows()\n",
    "ret, mtx, dist, rvecs, tvecs = cv2.calibrateCamera(objpoints, imgpoints, gray.shape[::-1], None, None)"
   ]
  },
  {
   "cell_type": "markdown",
   "metadata": {},
   "source": [
    "## Distortion Correction"
   ]
  },
  {
   "cell_type": "code",
   "execution_count": 2,
   "metadata": {},
   "outputs": [],
   "source": [
    "def undist(img):\n",
    "    undst_img = cv2.undistort(img, mtx, dist, None, mtx)\n",
    "    return undst_img\n"
   ]
  },
  {
   "cell_type": "markdown",
   "metadata": {},
   "source": [
    "## Combined Sobel-x Gradient and S-channel Threshold for edge Detection\n",
    "\n",
    "### Sobel operator\n",
    "The Sobel operator is at the heart of the Canny edge detection algorithm you used in the Introductory Lesson. Applying the Sobel operator to an image is a way of taking the derivative of the image in the xx or yy direction.\n",
    "\n",
    "#### x vs. y\n",
    "<figure>\n",
    "    <img src=\"./figs/sobel_xy.png\" width=\"500\" alt=\"Combined Image\" />\n",
    "     <!--  <figcaption>\n",
    "        <p></p>\n",
    "        <p style=\"text-align: center;\">  </p>\n",
    "    </figcaption> -->\n",
    "</figure>\n",
    "In the above images, you can see that the gradients taken in both the xx and the yy directions detect the lane lines and pick up other edges. Taking the gradient in the xx direction emphasizes edges closer to vertical. Alternatively, taking the gradient in the yy direction emphasizes edges closer to horizontal.\n",
    "\n",
    "In order to emphasizes vertical lines, we only use the gradient in the xx direction.\n",
    "\n",
    "### HLS transformation\n",
    "In HLS(Hue, Lightness, Saturation) space, saturation is a measurement of colorfulness. So, as colors get lighter and closer to white, they have a lower saturation value, whereas colors that are the most intense, like a bright primary color (imagine a bright red, blue, or yellow), have a high saturation value. You can get a better idea of these values by looking at the 3D color spaces pictured below."
   ]
  },
  {
   "cell_type": "code",
   "execution_count": 3,
   "metadata": {},
   "outputs": [],
   "source": [
    "def edge_detection(img):\n",
    "    # Convert to HLS color space and separate the S channel\n",
    "    # Note: img is the undistorted image\n",
    "    hls = cv2.cvtColor(img, cv2.COLOR_RGB2HLS)\n",
    "    s_channel = hls[:,:,2]\n",
    "\n",
    "    # Grayscale image\n",
    "    # NOTE: we already saw that standard grayscaling lost color information for the lane lines\n",
    "    # Explore gradients in other colors spaces / color channels to see what might work better\n",
    "    gray = cv2.cvtColor(img, cv2.COLOR_RGB2GRAY)\n",
    "\n",
    "    # Sobel x\n",
    "    sobelx = cv2.Sobel(gray, cv2.CV_64F, 1, 0) # Take the derivative in x\n",
    "    abs_sobelx = np.absolute(sobelx) # Absolute x derivative to accentuate lines away from horizontal\n",
    "    scaled_sobel = np.uint8(255*abs_sobelx/np.max(abs_sobelx))\n",
    "\n",
    "    # Threshold x gradient\n",
    "    thresh_min = 20\n",
    "    thresh_max = 100\n",
    "    sxbinary = np.zeros_like(scaled_sobel)\n",
    "    sxbinary[(scaled_sobel >= thresh_min) & (scaled_sobel <= thresh_max)] = 1\n",
    "\n",
    "    # Threshold color channel\n",
    "    s_thresh_min = 140\n",
    "    s_thresh_max = 255\n",
    "    s_binary = np.zeros_like(s_channel)\n",
    "    s_binary[(s_channel >= s_thresh_min) & (s_channel <= s_thresh_max)] = 1\n",
    "\n",
    "    # Stack each channel to view their individual contributions in green and blue respectively\n",
    "    # This returns a stack of the two binary images, whose components you can see as different colors\n",
    "    color_binary = np.dstack(( np.zeros_like(sxbinary), sxbinary, s_binary)) * 255\n",
    "\n",
    "    # Combine the two binary thresholds\n",
    "    combined_binary = np.zeros_like(sxbinary)\n",
    "    combined_binary[(s_binary == 1) | (sxbinary == 1)] = 1\n",
    "\n",
    "    # Plotting thresholded images\n",
    "#     f, (ax1, ax2) = plt.subplots(1, 2, figsize=(20,10))\n",
    "#     ax1.set_title('Stacked thresholds')\n",
    "#     ax1.imshow(color_binary)\n",
    "\n",
    "#     ax2.set_title('Combined S channel and gradient thresholds')\n",
    "#     ax2.imshow(combined_binary, cmap='gray')\n",
    "    return combined_binary"
   ]
  },
  {
   "cell_type": "markdown",
   "metadata": {},
   "source": [
    "## Perspective Transform\n",
    "After detecting edges, the image needs to be transformed to a bird's eyes view. Source coordinates are selected manually assuming that the cammera is mounted at the center of the vehicle."
   ]
  },
  {
   "cell_type": "code",
   "execution_count": 4,
   "metadata": {},
   "outputs": [],
   "source": [
    "def warp(img):\n",
    "    ylim = img.shape[0]\n",
    "    xlim = img.shape[1]\n",
    "    # Four source coordinates\n",
    "    src = np.float32(\n",
    "        [[xlim/2-438,ylim],\n",
    "         [xlim/2-40,448],\n",
    "         [xlim/2+40,448],\n",
    "         [xlim/2+438,ylim]])\n",
    "    \n",
    "    # Four desired coordinates\n",
    "    offset = 300\n",
    "    dst = np.float32(\n",
    "        [[offset,ylim],\n",
    "         [offset,0],\n",
    "         [xlim-offset,0],\n",
    "         [xlim-offset,ylim]])\n",
    "    \n",
    "    M = cv2.getPerspectiveTransform(src, dst)\n",
    "    Minv = cv2.getPerspectiveTransform(dst, src)\n",
    "    warped = cv2.warpPerspective(img, M, (xlim,ylim), flags=cv2.INTER_LINEAR)\n",
    "    \n",
    "#     f, (ax1, ax2) = plt.subplots(1,2,figsize=(20,10))\n",
    "#     ax1.set_title('Original')\n",
    "#     ax1.imshow(img, cmap = 'gray')\n",
    "#     ax2.set_title('Warped')\n",
    "#     ax2.imshow(warped, cmap = 'gray')\n",
    "    \n",
    "    return warped, Minv"
   ]
  },
  {
   "cell_type": "markdown",
   "metadata": {},
   "source": [
    "## Sliding Windows and Fit Polinomial\n",
    "\n",
    "### Line Finding Method: Peaks in a Histogram\n",
    "\n",
    "<figure>\n",
    "    <img src=\"./figs/sliding_window.png\" width=\"500\" alt=\"Combined Image\" />\n",
    "     <!--  <figcaption>\n",
    "        <p></p>\n",
    "        <p style=\"text-align: center;\">  </p>\n",
    "    </figcaption> -->\n",
    "</figure>\n",
    "With this histogram we are adding up the pixel values along each column in the image. In our thresholded binary image, pixels are either 0 or 1, so the two most prominent peaks in this histogram will be good indicators of the x-position of the base of the lane lines. We can use that as a starting point for where to search for the lines. From that point, we can use a sliding window, placed around the line centers, to find and follow the lines up to the top of the frame."
   ]
  },
  {
   "cell_type": "code",
   "execution_count": 5,
   "metadata": {},
   "outputs": [],
   "source": [
    "def find_lane_pixels(binary_warped):\n",
    "    # Assuming you have created a warped binary image called \"binary_warped\"\n",
    "    # Take a histogram of the bottom half of the image\n",
    "    histogram = np.sum(binary_warped[binary_warped.shape[0]//2:,:], axis=0)\n",
    "    # Create an output image to draw on and visualize the result\n",
    "    out_img = np.dstack((binary_warped, binary_warped, binary_warped))*255\n",
    "    # Find the peak of the left and right halves of the histogram\n",
    "    # These will be the starting point for the left and right lines\n",
    "    midpoint = np.int(histogram.shape[0]//2)\n",
    "    leftx_base = np.argmax(histogram[:midpoint])\n",
    "    rightx_base = np.argmax(histogram[midpoint:]) + midpoint\n",
    "    \n",
    "    # HYPERPARAMETERS\n",
    "    # Choose the number of sliding windows\n",
    "    nwindows = 9\n",
    "    # Set the width of the windows +/- margin\n",
    "    margin = 100\n",
    "    # Set minimum number of pixels found to recenter window\n",
    "    minpix = 50\n",
    "\n",
    "    # Set height of windows - based on nwindows above and image shape\n",
    "    window_height = np.int(binary_warped.shape[0]//nwindows)\n",
    "    # Identify the x and y positions of all nonzero (i.e. activated) pixels in the image\n",
    "    nonzero = binary_warped.nonzero()\n",
    "    nonzeroy = np.array(nonzero[0])\n",
    "    nonzerox = np.array(nonzero[1])\n",
    "    # Current positions to be updated later for each window in nwindows\n",
    "    leftx_current = leftx_base\n",
    "    rightx_current = rightx_base\n",
    "\n",
    "    # Create empty lists to receive left and right lane pixel indices\n",
    "    left_lane_inds = []\n",
    "    right_lane_inds = []\n",
    "    \n",
    "    # Step through the windows one by one\n",
    "    for window in range(nwindows):\n",
    "        # Identify window boundaries in x and y (and right and left)\n",
    "        win_y_low = binary_warped.shape[0] - (window+1)*window_height\n",
    "        win_y_high = binary_warped.shape[0] - window*window_height\n",
    "        \n",
    "        ### Find the four below boundaries of the window ###\n",
    "        win_xleft_low = leftx_current - margin \n",
    "        win_xleft_high = leftx_current + margin \n",
    "        win_xright_low = rightx_current - margin \n",
    "        win_xright_high = rightx_current + margin \n",
    "        \n",
    "        # Draw the windows on the visualization image\n",
    "        cv2.rectangle(out_img,(win_xleft_low,win_y_low),\n",
    "        (win_xleft_high,win_y_high),(0,255,0), 2) \n",
    "        cv2.rectangle(out_img,(win_xright_low,win_y_low),\n",
    "        (win_xright_high,win_y_high),(0,255,0), 2) \n",
    "        \n",
    "        ### Identify the nonzero pixels in x and y within the window ###\n",
    "        good_left_inds = ((nonzeroy >= win_y_low) & (nonzeroy < win_y_high) & \n",
    "        (nonzerox >= win_xleft_low) &  (nonzerox < win_xleft_high)).nonzero()[0]\n",
    "        good_right_inds = ((nonzeroy >= win_y_low) & (nonzeroy < win_y_high) & \n",
    "        (nonzerox >= win_xright_low) &  (nonzerox < win_xright_high)).nonzero()[0]\n",
    "        \n",
    "        # Append these indices to the lists\n",
    "        left_lane_inds.append(good_left_inds)\n",
    "        right_lane_inds.append(good_right_inds)\n",
    "        \n",
    "        ### TO-DO: If you found > minpix pixels, recenter next window ###\n",
    "        ### (`right` or `leftx_current`) on their mean position ###\n",
    "        if len(good_left_inds) > minpix:\n",
    "            leftx_current = np.int(np.mean(nonzerox[good_left_inds]))\n",
    "        if len(good_right_inds) > minpix:        \n",
    "            rightx_current = np.int(np.mean(nonzerox[good_right_inds]))\n",
    "\n",
    "    # Concatenate the arrays of indices (previously was a list of lists of pixels)\n",
    "    try:\n",
    "        left_lane_inds = np.concatenate(left_lane_inds)\n",
    "        right_lane_inds = np.concatenate(right_lane_inds)\n",
    "    except ValueError:\n",
    "        # Avoids an error if the above is not implemented fully\n",
    "        pass\n",
    "\n",
    "    # Extract left and right line pixel positions\n",
    "    leftx = nonzerox[left_lane_inds]\n",
    "    lefty = nonzeroy[left_lane_inds] \n",
    "    rightx = nonzerox[right_lane_inds]\n",
    "    righty = nonzeroy[right_lane_inds]\n",
    "\n",
    "    return leftx, lefty, rightx, righty, out_img\n",
    "\n",
    "\n",
    "def fit_polynomial(binary_warped):\n",
    "    # Find our lane pixels first\n",
    "    leftx, lefty, rightx, righty, out_img = find_lane_pixels(binary_warped)\n",
    "\n",
    "    ### TO-DO: Fit a second order polynomial to each using `np.polyfit` ###\n",
    "    left_fit = np.polyfit(lefty, leftx, 2)\n",
    "    right_fit = np.polyfit(righty, rightx, 2)\n",
    "\n",
    "    # Generate x and y values for plotting\n",
    "    ploty = np.linspace(0, binary_warped.shape[0]-1, binary_warped.shape[0] )\n",
    "    try:\n",
    "        left_fitx = left_fit[0]*ploty**2 + left_fit[1]*ploty + left_fit[2]\n",
    "        right_fitx = right_fit[0]*ploty**2 + right_fit[1]*ploty + right_fit[2]\n",
    "    except TypeError:\n",
    "        # Avoids an error if `left` and `right_fit` are still none or incorrect\n",
    "        print('The function failed to fit a line!')\n",
    "        left_fitx = 1*ploty**2 + 1*ploty\n",
    "        right_fitx = 1*ploty**2 + 1*ploty\n",
    "\n",
    "    ## Visualization ##\n",
    "    # Colors in the left and right lane regions\n",
    "    out_img[lefty, leftx] = [255, 0, 0]\n",
    "    out_img[righty, rightx] = [0, 0, 255]\n",
    "\n",
    "#     # Plots the left and right polynomials on the lane lines\n",
    "#     plt.plot(left_fitx, ploty, color='yellow')\n",
    "#     plt.plot(right_fitx, ploty, color='yellow')\n",
    "    \n",
    "    # Calculate curvature of the curve\n",
    "    left_curverad, right_curverad = measure_curvature_pixels(ploty, left_fitx, right_fitx)\n",
    "    \n",
    "    return out_img, left_curverad, right_curverad, left_fitx, right_fitx\n"
   ]
  },
  {
   "cell_type": "markdown",
   "metadata": {},
   "source": [
    "## Determine the Curvature of the Lane\n",
    "The radius of curvature at any point x of the function x=f(y) is given as follows:\n",
    "\n",
    "<figure>\n",
    "    <img src=\"./figs/curvature.png\" width=\"500\" alt=\"Combined Image\" />\n",
    "     <!--  <figcaption>\n",
    "        <p></p>\n",
    "        <p style=\"text-align: center;\">  </p>\n",
    "    </figcaption> -->\n",
    "</figure>\n",
    "The y values of your image increase from top to bottom, so if, for example, you wanted to measure the radius of curvature closest to your vehicle, you could evaluate the formula above at the y value corresponding to the bottom of your image.\n"
   ]
  },
  {
   "cell_type": "code",
   "execution_count": 6,
   "metadata": {},
   "outputs": [],
   "source": [
    "def measure_curvature_pixels(ploty, left_fitx, right_fitx):\n",
    "    '''\n",
    "    Calculates the curvature of polynomial functions in pixels.\n",
    "    '''\n",
    "    # Define y-value where we want radius of curvature\n",
    "    # We'll choose the maximum y-value, corresponding to the bottom of the image\n",
    "    y_eval = np.max(ploty)\n",
    "    \n",
    "    # Define conversions in x and y from pixels space to meters\n",
    "    ym_per_pix = 30/720 # meters per pixel in y dimension\n",
    "    xm_per_pix = 3.7/700 # meters per pixel in x dimension\n",
    "    \n",
    "    leftx = left_fitx[::-1]  # Reverse to match top-to-bottom in y\n",
    "    rightx = right_fitx[::-1]  # Reverse to match top-to-bottom in y\n",
    "    \n",
    "    # Fit a second order polynomial to pixel positions in each fake lane line\n",
    "    left_fit_cr = np.polyfit(ploty*ym_per_pix, leftx*xm_per_pix, 2) \n",
    "    right_fit_cr = np.polyfit(ploty*ym_per_pix, rightx*xm_per_pix, 2)\n",
    "    \n",
    "    ##### Implement the calculation of R_curve (radius of curvature) #####\n",
    "    left_curverad = ((1 + (2*left_fit_cr[0]*y_eval + left_fit_cr[1])**2)**1.5) / np.absolute(2*left_fit_cr[0])\n",
    "    right_curverad = ((1 + (2*right_fit_cr[0]*y_eval + right_fit_cr[1])**2)**1.5) / np.absolute(2*right_fit_cr[0])\n",
    "    \n",
    "    return left_curverad, right_curverad"
   ]
  },
  {
   "cell_type": "markdown",
   "metadata": {},
   "source": [
    "## Draw the Line onto the Original Image"
   ]
  },
  {
   "cell_type": "code",
   "execution_count": 7,
   "metadata": {},
   "outputs": [],
   "source": [
    "def draw_line(image, warped, left_fitx, right_fitx, Minv):\n",
    "    ploty = np.linspace(0, warped.shape[0]-1, warped.shape[0] )\n",
    "    \n",
    "    # Create an image to draw the lines on\n",
    "    warp_zero = np.zeros_like(warped).astype(np.uint8)\n",
    "    color_warp = np.dstack((warp_zero, warp_zero, warp_zero))\n",
    "\n",
    "    # Recast the x and y points into usable format for cv2.fillPoly()\n",
    "    pts_left = np.array([np.transpose(np.vstack([left_fitx, ploty]))])\n",
    "    pts_right = np.array([np.flipud(np.transpose(np.vstack([right_fitx, ploty])))])\n",
    "    pts = np.hstack((pts_left, pts_right))\n",
    "\n",
    "    # Draw the lane onto the warped blank image\n",
    "    cv2.fillPoly(color_warp, np.int_([pts]), (0,255, 0))\n",
    "\n",
    "    # Warp the blank back to original image space using inverse perspective matrix (Minv)\n",
    "    newwarp = cv2.warpPerspective(color_warp, Minv, (image.shape[1], image.shape[0])) \n",
    "    # Combine the result with the original image\n",
    "    result = cv2.addWeighted(image, 1, newwarp, 0.3, 0)\n",
    "    return result"
   ]
  },
  {
   "cell_type": "markdown",
   "metadata": {},
   "source": [
    "## Lane Detection Function"
   ]
  },
  {
   "cell_type": "code",
   "execution_count": 10,
   "metadata": {},
   "outputs": [],
   "source": [
    "def lane_detection(img):\n",
    "    # Distorsion correction\n",
    "    undist_img = undist(img)\n",
    "    # Edges creation\n",
    "    edges_img = edge_detection(undist_img)\n",
    "    # Warping\n",
    "    binary_warped, Minv = warp(edges_img)\n",
    "    # Finding lines\n",
    "    out_img, left_curverad, right_curverad, left_fitx, right_fitx = fit_polynomial(binary_warped)\n",
    "    print(left_curverad, right_curverad)\n",
    "    # Draw lines\n",
    "    result = draw_line(undist_img, binary_warped, left_fitx, right_fitx, Minv)\n",
    "    return result"
   ]
  },
  {
   "cell_type": "markdown",
   "metadata": {},
   "source": [
    "## Test on Images"
   ]
  },
  {
   "cell_type": "code",
   "execution_count": 11,
   "metadata": {},
   "outputs": [
    {
     "name": "stdout",
     "output_type": "stream",
     "text": [
      "4238.785354418543 18422.518530209054\n",
      "2787.5332500433706 2782.9654915353835\n",
      "2049.2016910170573 3389.1906614128793\n",
      "3428.156559586323 2789.687218004392\n",
      "4803.978446973867 3708.299719394654\n",
      "3195.3121484486 4261.657535414923\n"
     ]
    }
   ],
   "source": [
    "\n",
    "images = glob.glob('./test_images/test*.jpg')\n",
    "for fname in images:\n",
    "    img = cv2.imread(fname)\n",
    "    result = lane_detection(img)\n",
    "    cv2.imshow(fname,result)\n",
    "    cv2.waitKey(0)\n",
    "    cv2.destroyAllWindows()"
   ]
  },
  {
   "cell_type": "markdown",
   "metadata": {},
   "source": [
    "## Test on Videos"
   ]
  },
  {
   "cell_type": "code",
   "execution_count": 13,
   "metadata": {},
   "outputs": [
    {
     "name": "stderr",
     "output_type": "stream",
     "text": [
      "t:   0%|          | 2/1260 [02:40<28:06:33, 80.44s/it, now=None]\n",
      "t:   0%|          | 0/1260 [00:00<?, ?it/s, now=None]\u001b[A\n",
      "t:   0%|          | 3/1260 [00:00<00:42, 29.51it/s, now=None]\u001b[A"
     ]
    },
    {
     "name": "stdout",
     "output_type": "stream",
     "text": [
      "4603.749439791569 2824.976395690579\n",
      "Moviepy - Building video output_videos/project_video.mp4.\n",
      "Moviepy - Writing video output_videos/project_video.mp4\n",
      "\n",
      "4603.749439791569 2824.976395690579\n",
      "4848.068390485686 2484.8863783847387\n",
      "4603.034363424105 2885.1788022802134\n"
     ]
    },
    {
     "name": "stderr",
     "output_type": "stream",
     "text": [
      "\n",
      "t:   0%|          | 5/1260 [00:00<00:51, 24.41it/s, now=None]\u001b[A\n",
      "t:   1%|          | 8/1260 [00:00<00:51, 24.31it/s, now=None]\u001b[A"
     ]
    },
    {
     "name": "stdout",
     "output_type": "stream",
     "text": [
      "5015.363987431207 3918.9150710378863\n",
      "4401.377537074657 3738.7496854187284\n",
      "3746.809002897012 2986.280546300179\n",
      "4162.426849330234 2882.3816878823664\n",
      "4228.141691433807 2165.280474963777\n"
     ]
    },
    {
     "name": "stderr",
     "output_type": "stream",
     "text": [
      "\n",
      "t:   1%|          | 10/1260 [00:00<00:55, 22.62it/s, now=None]\u001b[A\n",
      "t:   1%|          | 12/1260 [00:00<00:57, 21.68it/s, now=None]\u001b[A"
     ]
    },
    {
     "name": "stdout",
     "output_type": "stream",
     "text": [
      "3937.806317219279 2191.2727788350194\n",
      "3787.435509213405 2527.7396430616473\n",
      "3754.440798672272 2932.0570673652373\n",
      "3153.16004385369 2164.7968572691807\n",
      "3648.3888776552876 2712.524198483976\n"
     ]
    },
    {
     "name": "stderr",
     "output_type": "stream",
     "text": [
      "\n",
      "t:   1%|          | 14/1260 [00:00<00:59, 21.09it/s, now=None]\u001b[A\n",
      "t:   1%|▏         | 16/1260 [00:00<01:00, 20.41it/s, now=None]\u001b[A\n",
      "t:   2%|▏         | 19/1260 [00:00<00:58, 21.40it/s, now=None]\u001b[A"
     ]
    },
    {
     "name": "stdout",
     "output_type": "stream",
     "text": [
      "3671.992957591887 2667.9319351211143\n",
      "3648.2979750785244 3748.4166236369947\n",
      "3756.308661874415 3759.899365736218\n",
      "3915.110362742432 3430.8318128749934\n",
      "3818.133862101361 3149.06728875518\n"
     ]
    },
    {
     "name": "stderr",
     "output_type": "stream",
     "text": [
      "\n",
      "t:   2%|▏         | 22/1260 [00:01<00:56, 22.01it/s, now=None]\u001b[A"
     ]
    },
    {
     "name": "stdout",
     "output_type": "stream",
     "text": [
      "3751.6064404460217 3422.7306432352557\n",
      "3802.286908186299 3104.2071227236397\n",
      "3242.836955882347 2636.729547703537\n",
      "3244.2845650901622 2634.5308153335095\n",
      "3088.161941469704 2308.4690406117293\n"
     ]
    },
    {
     "name": "stderr",
     "output_type": "stream",
     "text": [
      "\n",
      "t:   2%|▏         | 25/1260 [00:01<00:55, 22.26it/s, now=None]\u001b[A\n",
      "t:   2%|▏         | 28/1260 [00:01<00:54, 22.47it/s, now=None]\u001b[A"
     ]
    },
    {
     "name": "stdout",
     "output_type": "stream",
     "text": [
      "3563.680892904472 2592.6814257094416\n",
      "3907.830744825946 2834.6569874769975\n",
      "4035.6414731241866 2927.822001715591\n",
      "4480.692400256116 2821.893445410206\n",
      "4199.932987195941 3200.919076666173\n"
     ]
    },
    {
     "name": "stderr",
     "output_type": "stream",
     "text": [
      "\n",
      "t:   2%|▏         | 31/1260 [00:01<00:54, 22.39it/s, now=None]\u001b[A\n",
      "t:   3%|▎         | 34/1260 [00:01<00:53, 22.91it/s, now=None]\u001b[A"
     ]
    },
    {
     "name": "stdout",
     "output_type": "stream",
     "text": [
      "4909.09859254921 2780.296825741387\n",
      "5236.704885837962 3934.2374555281267\n",
      "5111.457319893414 4891.859770547964\n",
      "5875.324568342181 3959.5260690215155\n",
      "6147.0190365796825 3965.8167652403245\n"
     ]
    },
    {
     "name": "stderr",
     "output_type": "stream",
     "text": [
      "\n",
      "t:   3%|▎         | 37/1260 [00:01<00:52, 23.30it/s, now=None]\u001b[A"
     ]
    },
    {
     "name": "stdout",
     "output_type": "stream",
     "text": [
      "6526.083378445295 3064.3513730980176\n",
      "6631.430448731829 4116.049330734166\n",
      "6830.616422336354 4457.408034432641\n",
      "6828.416785272072 3676.104044530682\n",
      "6887.583907461601 4161.862621818632\n"
     ]
    },
    {
     "name": "stderr",
     "output_type": "stream",
     "text": [
      "\n",
      "t:   3%|▎         | 40/1260 [00:01<00:52, 23.46it/s, now=None]\u001b[A\n",
      "t:   3%|▎         | 43/1260 [00:01<00:51, 23.51it/s, now=None]\u001b[A"
     ]
    },
    {
     "name": "stdout",
     "output_type": "stream",
     "text": [
      "7050.87696832851 5345.237357909575\n",
      "6625.43856573865 5642.6465124608385\n",
      "6362.243037804367 4895.781475625442\n",
      "6127.1953061501235 4286.158359403235\n",
      "5786.013996682478 4198.595036754902\n"
     ]
    },
    {
     "name": "stderr",
     "output_type": "stream",
     "text": [
      "\n",
      "t:   4%|▎         | 46/1260 [00:02<00:51, 23.39it/s, now=None]\u001b[A\n",
      "t:   4%|▍         | 49/1260 [00:02<00:53, 22.83it/s, now=None]\u001b[A"
     ]
    },
    {
     "name": "stdout",
     "output_type": "stream",
     "text": [
      "5338.992176031521 4319.928650722886\n",
      "4811.1613368737535 4249.821643295233\n",
      "4866.890349236488 3478.2694122034973\n",
      "4715.72102803196 2855.9210694895787\n",
      "4669.904710979408 3417.11942824447\n"
     ]
    },
    {
     "name": "stderr",
     "output_type": "stream",
     "text": [
      "\n",
      "t:   4%|▍         | 52/1260 [00:02<00:54, 22.17it/s, now=None]\u001b[A"
     ]
    },
    {
     "name": "stdout",
     "output_type": "stream",
     "text": [
      "4298.505267353625 3623.4282547323346\n",
      "4185.937882547384 4298.409104829348\n",
      "3956.1307600532086 3257.7812165037953\n",
      "4094.088617807692 3873.2445217701156\n",
      "4322.571419467388 4359.4649405613845\n"
     ]
    },
    {
     "name": "stderr",
     "output_type": "stream",
     "text": [
      "\n",
      "t:   4%|▍         | 55/1260 [00:02<00:57, 20.87it/s, now=None]\u001b[A\n",
      "t:   5%|▍         | 58/1260 [00:02<00:57, 21.00it/s, now=None]\u001b[A"
     ]
    },
    {
     "name": "stdout",
     "output_type": "stream",
     "text": [
      "3782.5234907350905 4030.5370547071357\n",
      "3815.3100768058175 3560.5656339268958\n",
      "3573.3074443895125 3352.0286888866485\n",
      "3681.65600947093 3350.868287776945\n",
      "3612.9377567668257 2507.4653568817675\n"
     ]
    },
    {
     "name": "stderr",
     "output_type": "stream",
     "text": [
      "\n",
      "t:   5%|▍         | 61/1260 [00:02<00:58, 20.51it/s, now=None]\u001b[A"
     ]
    },
    {
     "name": "stdout",
     "output_type": "stream",
     "text": [
      "3849.2167446713256 3247.1146093092493\n",
      "3907.034735129976 3093.0111457893086\n",
      "3658.6195337213894 4071.5531559294855\n",
      "4144.049875794381 4324.797796924299\n",
      "3722.50327018985 5381.618494213758\n"
     ]
    },
    {
     "name": "stderr",
     "output_type": "stream",
     "text": [
      "\n",
      "t:   5%|▌         | 64/1260 [00:02<00:58, 20.57it/s, now=None]\u001b[A\n",
      "t:   5%|▌         | 67/1260 [00:03<00:56, 20.96it/s, now=None]\u001b[A"
     ]
    },
    {
     "name": "stdout",
     "output_type": "stream",
     "text": [
      "3873.402909299887 4813.149919205064\n",
      "3766.7400850672398 4542.225158651733\n",
      "3879.3960441189315 4151.098148657594\n",
      "3523.935843711928 3899.6212992500477\n",
      "3398.6407313819723 4011.308718087536\n"
     ]
    },
    {
     "name": "stderr",
     "output_type": "stream",
     "text": [
      "\n",
      "t:   6%|▌         | 70/1260 [00:03<00:58, 20.44it/s, now=None]\u001b[A\n",
      "t:   6%|▌         | 73/1260 [00:03<00:58, 20.41it/s, now=None]\u001b[A"
     ]
    },
    {
     "name": "stdout",
     "output_type": "stream",
     "text": [
      "3831.1188415772085 4804.26873782731\n",
      "3584.5693508582035 4607.082976401184\n",
      "3522.178441700742 4850.717796449103\n",
      "3477.2585542416214 4301.800206723047\n",
      "3521.2777164045788 4479.571936131118\n"
     ]
    },
    {
     "name": "stderr",
     "output_type": "stream",
     "text": [
      "\n",
      "t:   6%|▌         | 76/1260 [00:03<00:58, 20.26it/s, now=None]\u001b[A\n",
      "t:   6%|▋         | 79/1260 [00:03<00:55, 21.39it/s, now=None]\u001b[A"
     ]
    },
    {
     "name": "stdout",
     "output_type": "stream",
     "text": [
      "3422.055346476571 4199.609755808628\n",
      "3110.184174811852 4277.926494590025\n",
      "3300.9821866496413 4732.950629442464\n",
      "3074.0153808478467 3994.000907280975\n",
      "3017.3315159679287 4073.4980035025146\n"
     ]
    },
    {
     "name": "stderr",
     "output_type": "stream",
     "text": [
      "\n",
      "t:   7%|▋         | 82/1260 [00:03<00:55, 21.33it/s, now=None]\u001b[A"
     ]
    },
    {
     "name": "stdout",
     "output_type": "stream",
     "text": [
      "2945.4035836599223 4578.003309321565\n",
      "3045.248002900005 4490.298764733822\n",
      "3069.959901942873 3803.982577189937\n",
      "3500.967665147439 3500.1171961897862\n",
      "3470.1775239764556 3112.494351475553\n"
     ]
    },
    {
     "name": "stderr",
     "output_type": "stream",
     "text": [
      "\n",
      "t:   7%|▋         | 85/1260 [00:03<00:52, 22.25it/s, now=None]\u001b[A\n",
      "t:   7%|▋         | 88/1260 [00:04<00:50, 23.19it/s, now=None]\u001b[A"
     ]
    },
    {
     "name": "stdout",
     "output_type": "stream",
     "text": [
      "3187.6923926413947 3278.5160515377174\n",
      "3371.488825449581 2642.4476460884666\n",
      "3725.8448379806514 2573.408041726467\n",
      "4366.630993756577 3847.222794255117\n",
      "4805.89326456041 3518.220507137521\n"
     ]
    },
    {
     "name": "stderr",
     "output_type": "stream",
     "text": [
      "\n",
      "t:   7%|▋         | 91/1260 [00:04<00:50, 23.18it/s, now=None]\u001b[A\n",
      "t:   7%|▋         | 94/1260 [00:04<00:52, 22.02it/s, now=None]\u001b[A"
     ]
    },
    {
     "name": "stdout",
     "output_type": "stream",
     "text": [
      "4937.938120747617 4279.861031322981\n",
      "5791.364409475113 4336.968048881819\n",
      "5542.551786217651 3906.7452646693346\n",
      "5360.587059250023 3986.8626820302916\n",
      "5654.876801945643 4099.113530792944\n"
     ]
    },
    {
     "name": "stderr",
     "output_type": "stream",
     "text": [
      "\n",
      "t:   8%|▊         | 97/1260 [00:04<00:52, 22.21it/s, now=None]\u001b[A"
     ]
    },
    {
     "name": "stdout",
     "output_type": "stream",
     "text": [
      "5784.798371770915 4682.0427367536495\n",
      "5325.333627507805 4427.656930264636\n",
      "5511.325796106149 5144.664665226313\n",
      "5407.089228605528 5260.927208234538\n",
      "4986.551430635285 5493.230801784862\n"
     ]
    },
    {
     "name": "stderr",
     "output_type": "stream",
     "text": [
      "\n",
      "t:   8%|▊         | 100/1260 [00:04<00:54, 21.20it/s, now=None]\u001b[A\n",
      "t:   8%|▊         | 103/1260 [00:04<00:52, 22.15it/s, now=None]\u001b[A"
     ]
    },
    {
     "name": "stdout",
     "output_type": "stream",
     "text": [
      "5425.658236549439 4928.333126807088\n",
      "5182.451333685645 4429.427444018706\n",
      "5405.582335676449 4973.4223135413185\n",
      "5574.993273112681 5860.934830443065\n",
      "5625.7315977249555 5907.27857485153\n"
     ]
    },
    {
     "name": "stderr",
     "output_type": "stream",
     "text": [
      "\n",
      "t:   8%|▊         | 106/1260 [00:04<00:53, 21.53it/s, now=None]\u001b[A\n",
      "t:   9%|▊         | 109/1260 [00:04<00:51, 22.33it/s, now=None]\u001b[A"
     ]
    },
    {
     "name": "stdout",
     "output_type": "stream",
     "text": [
      "5585.659465998188 5710.269519154326\n",
      "5041.6692219855595 5627.063503889501\n",
      "4931.9958207158725 5251.529671278981\n",
      "4836.6388134087665 5037.927443772895\n",
      "5314.670977867847 4867.524620941809\n"
     ]
    },
    {
     "name": "stderr",
     "output_type": "stream",
     "text": [
      "\n",
      "t:   9%|▉         | 112/1260 [00:05<00:48, 23.47it/s, now=None]\u001b[A\n",
      "t:   9%|▉         | 115/1260 [00:05<00:47, 24.11it/s, now=None]\u001b[A"
     ]
    },
    {
     "name": "stdout",
     "output_type": "stream",
     "text": [
      "5190.281739710541 4011.7710360999135\n",
      "5207.137495747329 3931.4547321718633\n",
      "5335.78611199877 4943.674984262622\n",
      "4936.915598836404 4566.905619778867\n",
      "5346.88416468918 4735.382212180597\n",
      "5451.554616344696 4294.479008844873\n"
     ]
    },
    {
     "name": "stderr",
     "output_type": "stream",
     "text": [
      "\n",
      "t:   9%|▉         | 118/1260 [00:05<00:47, 24.12it/s, now=None]\u001b[A"
     ]
    },
    {
     "name": "stdout",
     "output_type": "stream",
     "text": [
      "6103.671580986887 6436.952042293675\n",
      "6367.156460029305 5985.997841378178\n",
      "6170.887266197768 5186.746549068768\n",
      "6234.086619174393 4734.878195475917\n",
      "6114.967022160167 4912.534319292399\n"
     ]
    },
    {
     "name": "stderr",
     "output_type": "stream",
     "text": [
      "\n",
      "t:  10%|▉         | 121/1260 [00:05<00:51, 22.06it/s, now=None]\u001b[A\n",
      "t:  10%|▉         | 124/1260 [00:05<00:52, 21.46it/s, now=None]\u001b[A"
     ]
    },
    {
     "name": "stdout",
     "output_type": "stream",
     "text": [
      "6435.559747427209 5838.001002878704\n",
      "6166.532626823183 4585.435689830597\n",
      "6187.79079027633 5357.711663266838\n",
      "6193.948585105943 5622.090168134946\n"
     ]
    },
    {
     "name": "stderr",
     "output_type": "stream",
     "text": [
      "\n",
      "t:  10%|█         | 127/1260 [00:05<00:51, 21.86it/s, now=None]\u001b[A"
     ]
    },
    {
     "name": "stdout",
     "output_type": "stream",
     "text": [
      "6172.458334241902 5904.981245295285\n",
      "6097.914052933592 6015.831468982761\n",
      "5413.817994064034 4974.3226959662015\n",
      "5531.841854372313 4931.464613354251\n",
      "5305.8113185620205 5188.084723069232\n"
     ]
    },
    {
     "name": "stderr",
     "output_type": "stream",
     "text": [
      "\n",
      "t:  10%|█         | 130/1260 [00:05<00:52, 21.59it/s, now=None]\u001b[A\n",
      "t:  11%|█         | 133/1260 [00:06<00:49, 22.87it/s, now=None]\u001b[A"
     ]
    },
    {
     "name": "stdout",
     "output_type": "stream",
     "text": [
      "5465.745613363943 4281.808239456697\n",
      "5290.82506704091 4063.080205897372\n",
      "5047.579163263038 4343.949648483242\n",
      "5026.671755099065 5053.241018268762\n",
      "4805.208936943227 4195.642465426249\n"
     ]
    },
    {
     "name": "stderr",
     "output_type": "stream",
     "text": [
      "\n",
      "t:  11%|█         | 136/1260 [00:06<00:49, 22.83it/s, now=None]\u001b[A"
     ]
    },
    {
     "name": "stdout",
     "output_type": "stream",
     "text": [
      "4637.500297354593 4326.063475355069\n",
      "4371.774825268626 3674.224835879592\n",
      "3836.2979239403116 3690.1259658271483\n",
      "4113.307709302884 3258.9691888789043\n",
      "3707.0244522312687 3094.9217021627355\n"
     ]
    },
    {
     "name": "stderr",
     "output_type": "stream",
     "text": [
      "\n",
      "t:  11%|█         | 139/1260 [00:06<00:52, 21.54it/s, now=None]\u001b[A\n",
      "t:  11%|█▏        | 142/1260 [00:06<00:54, 20.52it/s, now=None]\u001b[A"
     ]
    },
    {
     "name": "stdout",
     "output_type": "stream",
     "text": [
      "3661.5092852439075 3429.092532550007\n",
      "3367.3241660712606 2818.5111231451874\n",
      "3096.5833407549376 3894.1343626907405\n",
      "3592.1622407404366 4086.338861338367\n",
      "3730.311074465066 3473.793208602396\n"
     ]
    },
    {
     "name": "stderr",
     "output_type": "stream",
     "text": [
      "\n",
      "t:  12%|█▏        | 145/1260 [00:06<00:53, 20.90it/s, now=None]\u001b[A\n",
      "t:  12%|█▏        | 148/1260 [00:06<00:52, 21.09it/s, now=None]\u001b[A"
     ]
    },
    {
     "name": "stdout",
     "output_type": "stream",
     "text": [
      "3648.951424949095 3238.9977077909207\n",
      "3564.176342353913 3098.67745373301\n",
      "4057.68784604507 3784.0519072515776\n",
      "3561.753398604459 3661.9396108445944\n",
      "4530.626543068707 4252.0801704111955\n"
     ]
    },
    {
     "name": "stderr",
     "output_type": "stream",
     "text": [
      "\n",
      "t:  12%|█▏        | 151/1260 [00:06<00:51, 21.45it/s, now=None]\u001b[A\n",
      "t:  12%|█▏        | 154/1260 [00:07<00:52, 21.10it/s, now=None]\u001b[A"
     ]
    },
    {
     "name": "stdout",
     "output_type": "stream",
     "text": [
      "4449.422963658494 4026.982069997217\n",
      "4103.174404022723 3882.767184498319\n",
      "4047.7902365813243 4624.195519887806\n",
      "4058.6933062707444 4412.306509422237\n",
      "4527.660643900397 4563.1704547556255\n"
     ]
    },
    {
     "name": "stderr",
     "output_type": "stream",
     "text": [
      "\n",
      "t:  12%|█▏        | 157/1260 [00:07<00:50, 21.63it/s, now=None]\u001b[A"
     ]
    },
    {
     "name": "stdout",
     "output_type": "stream",
     "text": [
      "4172.004782276943 3994.807707048283\n",
      "4089.4883034850063 3922.327457585547\n",
      "4234.378009664068 3582.3939076750585\n",
      "4260.31139932582 3344.9637453632104\n",
      "4816.687874829761 4455.00845176871\n"
     ]
    },
    {
     "name": "stderr",
     "output_type": "stream",
     "text": [
      "\n",
      "t:  13%|█▎        | 160/1260 [00:07<00:49, 22.04it/s, now=None]\u001b[A\n",
      "t:  13%|█▎        | 163/1260 [00:07<00:47, 23.00it/s, now=None]\u001b[A"
     ]
    },
    {
     "name": "stdout",
     "output_type": "stream",
     "text": [
      "4689.678842100298 4963.5875333586555\n",
      "5109.514176772999 5738.569791416443\n",
      "4536.8115379927385 4367.381905691464\n",
      "4793.467415003977 4292.227433438512\n",
      "4623.011112996909 3684.7416834437395\n"
     ]
    },
    {
     "name": "stderr",
     "output_type": "stream",
     "text": [
      "\n",
      "t:  13%|█▎        | 166/1260 [00:07<00:47, 23.17it/s, now=None]\u001b[A\n",
      "t:  13%|█▎        | 169/1260 [00:07<00:48, 22.46it/s, now=None]\u001b[A"
     ]
    },
    {
     "name": "stdout",
     "output_type": "stream",
     "text": [
      "4333.037253533666 6188.994380411614\n",
      "5148.575732552596 6393.626612326857\n",
      "4948.925166565374 5633.7043822965325\n",
      "5794.550086004287 6945.792068768623\n",
      "4910.174200418278 6701.8579995703385\n"
     ]
    },
    {
     "name": "stderr",
     "output_type": "stream",
     "text": [
      "\n",
      "t:  14%|█▎        | 172/1260 [00:07<00:47, 22.93it/s, now=None]\u001b[A"
     ]
    },
    {
     "name": "stdout",
     "output_type": "stream",
     "text": [
      "4857.444545791641 6716.440014813948\n",
      "4317.491359877762 6491.7485409535075\n",
      "4340.12876680731 7939.722486394484\n",
      "4546.554862304029 8797.892282109158\n",
      "4937.10174295748 7827.585643930288\n",
      "6020.363834952142 7869.913451180202\n"
     ]
    },
    {
     "name": "stderr",
     "output_type": "stream",
     "text": [
      "\n",
      "t:  14%|█▍        | 175/1260 [00:07<00:45, 23.85it/s, now=None]\u001b[A\n",
      "t:  14%|█▍        | 178/1260 [00:08<00:45, 23.73it/s, now=None]\u001b[A"
     ]
    },
    {
     "name": "stdout",
     "output_type": "stream",
     "text": [
      "6718.101682977059 9418.201505555526\n",
      "6908.372002258485 8005.823994696815\n",
      "5887.434161970727 8119.389816293873\n",
      "5928.830811090448 7318.71222243256\n",
      "6148.694029996925 6221.51543753892\n"
     ]
    },
    {
     "name": "stderr",
     "output_type": "stream",
     "text": [
      "\n",
      "t:  14%|█▍        | 181/1260 [00:08<00:47, 22.83it/s, now=None]\u001b[A\n",
      "t:  15%|█▍        | 184/1260 [00:08<00:48, 22.14it/s, now=None]\u001b[A"
     ]
    },
    {
     "name": "stdout",
     "output_type": "stream",
     "text": [
      "5760.216869216626 5525.150605485378\n",
      "6340.321334778493 6702.115261084609\n",
      "6205.624528573973 6172.630258059932\n",
      "6624.695842306705 5474.081922245609\n",
      "7489.701783069046 5376.750261485923\n"
     ]
    },
    {
     "name": "stderr",
     "output_type": "stream",
     "text": [
      "\n",
      "t:  15%|█▍        | 187/1260 [00:08<00:49, 21.66it/s, now=None]\u001b[A\n",
      "t:  15%|█▌        | 190/1260 [00:08<00:47, 22.66it/s, now=None]\u001b[A"
     ]
    },
    {
     "name": "stdout",
     "output_type": "stream",
     "text": [
      "8255.768211184011 5419.6162795010105\n",
      "9952.747393232008 6641.757766086735\n",
      "9790.504423064314 7883.062589510855\n",
      "10159.329667760705 7677.313221882781\n",
      "9976.81730875263 7144.348630955537\n"
     ]
    },
    {
     "name": "stderr",
     "output_type": "stream",
     "text": [
      "\n",
      "t:  15%|█▌        | 193/1260 [00:08<00:45, 23.63it/s, now=None]\u001b[A"
     ]
    },
    {
     "name": "stdout",
     "output_type": "stream",
     "text": [
      "9745.344203119586 7868.652410214605\n",
      "9837.87525668892 8230.743859404316\n",
      "8923.842749145511 7336.149730781142\n",
      "9420.789981374486 7807.8720339437905\n",
      "8622.856066165554 7273.645240266086\n"
     ]
    },
    {
     "name": "stderr",
     "output_type": "stream",
     "text": [
      "\n",
      "t:  16%|█▌        | 196/1260 [00:08<00:48, 21.91it/s, now=None]\u001b[A\n",
      "t:  16%|█▌        | 199/1260 [00:09<00:48, 22.01it/s, now=None]\u001b[A"
     ]
    },
    {
     "name": "stdout",
     "output_type": "stream",
     "text": [
      "8213.5022586543 6720.9872888592245\n",
      "6101.436910108119 5535.367271350939\n",
      "4724.747071668968 3886.1390248759185\n",
      "4038.831529665645 3523.434035086556\n",
      "3756.920503111445 3023.3856043209817\n"
     ]
    },
    {
     "name": "stderr",
     "output_type": "stream",
     "text": [
      "\n",
      "t:  16%|█▌        | 202/1260 [00:09<00:46, 22.86it/s, now=None]\u001b[A\n",
      "t:  16%|█▋        | 205/1260 [00:09<00:44, 23.54it/s, now=None]\u001b[A"
     ]
    },
    {
     "name": "stdout",
     "output_type": "stream",
     "text": [
      "3950.8160373869364 2876.365456068961\n",
      "3854.6266960224766 2938.447789484069\n",
      "4269.179906540392 3995.3963441869573\n",
      "4452.402055426463 3901.610331017656\n",
      "4422.6412247198505 5112.009268404189\n",
      "4807.523743484803 4304.301301861012\n"
     ]
    },
    {
     "name": "stderr",
     "output_type": "stream",
     "text": [
      "\n",
      "t:  17%|█▋        | 208/1260 [00:09<00:45, 22.89it/s, now=None]\u001b[A\n",
      "t:  17%|█▋        | 211/1260 [00:09<00:45, 22.91it/s, now=None]\u001b[A"
     ]
    },
    {
     "name": "stdout",
     "output_type": "stream",
     "text": [
      "4996.312642335727 4180.148759534977\n",
      "6112.152133280728 3829.479133029031\n",
      "6366.562402081087 4011.087206134807\n",
      "5798.86527036369 4421.218695431526\n",
      "5340.44329099918 3737.9322686551877\n"
     ]
    },
    {
     "name": "stderr",
     "output_type": "stream",
     "text": [
      "\n",
      "t:  17%|█▋        | 214/1260 [00:09<00:48, 21.37it/s, now=None]\u001b[A"
     ]
    },
    {
     "name": "stdout",
     "output_type": "stream",
     "text": [
      "4889.524214247796 3468.696397578276\n",
      "4842.398443842522 3108.9377998591285\n",
      "4750.287682771335 2736.633674354061\n",
      "5097.554330325388 3114.6763695027034\n",
      "5071.141490346984 4198.315665302079\n"
     ]
    },
    {
     "name": "stderr",
     "output_type": "stream",
     "text": [
      "\n",
      "t:  17%|█▋        | 217/1260 [00:09<00:47, 22.11it/s, now=None]\u001b[A\n",
      "t:  17%|█▋        | 220/1260 [00:09<00:45, 22.95it/s, now=None]\u001b[A"
     ]
    },
    {
     "name": "stdout",
     "output_type": "stream",
     "text": [
      "4768.279834251872 3589.757383020438\n",
      "4696.192265145989 3236.0006638281975\n",
      "4404.231366332775 3127.5417398154304\n",
      "4527.530200537345 3227.7034367091155\n",
      "3893.924328895818 3127.797882677126\n",
      "3818.8976732363158 2950.2762380033682\n"
     ]
    },
    {
     "name": "stderr",
     "output_type": "stream",
     "text": [
      "\n",
      "t:  18%|█▊        | 223/1260 [00:10<00:44, 23.55it/s, now=None]\u001b[A\n",
      "t:  18%|█▊        | 226/1260 [00:10<00:44, 23.15it/s, now=None]\u001b[A"
     ]
    },
    {
     "name": "stdout",
     "output_type": "stream",
     "text": [
      "3736.5706199950223 3736.3569656621185\n",
      "3422.0488805748755 4136.715442889679\n",
      "3989.1105626650115 4160.750729861006\n",
      "3890.5628167734203 4237.773785183956\n",
      "4073.04845672417 5241.996529536574\n"
     ]
    },
    {
     "name": "stderr",
     "output_type": "stream",
     "text": [
      "\n",
      "t:  18%|█▊        | 229/1260 [00:10<00:43, 23.74it/s, now=None]\u001b[A\n",
      "t:  18%|█▊        | 232/1260 [00:10<00:43, 23.47it/s, now=None]\u001b[A"
     ]
    },
    {
     "name": "stdout",
     "output_type": "stream",
     "text": [
      "3732.840513492718 5258.66256610407\n",
      "3773.309091000599 4606.38447753\n",
      "3690.4502552000986 4154.298810214371\n",
      "3356.755907251838 4196.886436781828\n",
      "3614.903884085852 4866.0367144973225\n"
     ]
    },
    {
     "name": "stderr",
     "output_type": "stream",
     "text": [
      "\n",
      "t:  19%|█▊        | 235/1260 [00:10<00:43, 23.47it/s, now=None]\u001b[A"
     ]
    },
    {
     "name": "stdout",
     "output_type": "stream",
     "text": [
      "3406.7127058144174 4846.083396634194\n",
      "3409.9694408181294 4967.711373319178\n",
      "3454.03188839058 5143.316306921304\n",
      "3692.1874970774693 5527.168145336759\n",
      "4184.187753921517 5907.558837571745\n",
      "4266.40904058709 6720.034889533668\n"
     ]
    },
    {
     "name": "stderr",
     "output_type": "stream",
     "text": [
      "\n",
      "t:  19%|█▉        | 238/1260 [00:10<00:42, 23.92it/s, now=None]\u001b[A\n",
      "t:  19%|█▉        | 241/1260 [00:10<00:42, 24.11it/s, now=None]\u001b[A"
     ]
    },
    {
     "name": "stdout",
     "output_type": "stream",
     "text": [
      "4603.584293954078 6265.630379373003\n",
      "4901.362800542224 6544.641366159711\n",
      "4862.689147884004 6737.769528211778\n",
      "4803.443634190435 6082.724875618864\n",
      "4393.736988685075 5544.1573891254475\n"
     ]
    },
    {
     "name": "stderr",
     "output_type": "stream",
     "text": [
      "\n",
      "t:  19%|█▉        | 244/1260 [00:10<00:42, 24.17it/s, now=None]\u001b[A\n",
      "t:  20%|█▉        | 247/1260 [00:11<00:44, 22.67it/s, now=None]\u001b[A"
     ]
    },
    {
     "name": "stdout",
     "output_type": "stream",
     "text": [
      "5071.680646121959 6015.375504709488\n",
      "4827.110160638073 5938.4078915865375\n",
      "5020.979096788863 5579.2278080777605\n",
      "5288.4214496721415 6568.066129289077\n",
      "5131.468406013274 6134.542369737456\n"
     ]
    },
    {
     "name": "stderr",
     "output_type": "stream",
     "text": [
      "\n",
      "t:  20%|█▉        | 250/1260 [00:11<00:44, 22.87it/s, now=None]\u001b[A"
     ]
    },
    {
     "name": "stdout",
     "output_type": "stream",
     "text": [
      "5617.314092359144 6360.051533172994\n",
      "5157.730988550515 6374.462535299273\n",
      "5167.379089923021 5900.454729547996\n",
      "4919.389021538746 5495.290767452444\n"
     ]
    },
    {
     "name": "stderr",
     "output_type": "stream",
     "text": [
      "\n",
      "t:  20%|██        | 253/1260 [00:11<00:47, 21.37it/s, now=None]\u001b[A\n",
      "t:  20%|██        | 256/1260 [00:11<00:46, 21.64it/s, now=None]\u001b[A"
     ]
    },
    {
     "name": "stdout",
     "output_type": "stream",
     "text": [
      "4731.68075281755 5989.679114319704\n",
      "4511.30950180757 5543.685556276773\n",
      "4270.611083537117 5239.305455893843\n",
      "4597.255086113725 6668.296931975684\n",
      "4526.852150414149 5959.663943187223\n"
     ]
    },
    {
     "name": "stderr",
     "output_type": "stream",
     "text": [
      "\n",
      "t:  21%|██        | 259/1260 [00:11<00:47, 20.93it/s, now=None]\u001b[A\n",
      "t:  21%|██        | 262/1260 [00:11<00:46, 21.33it/s, now=None]\u001b[A"
     ]
    },
    {
     "name": "stdout",
     "output_type": "stream",
     "text": [
      "4501.771962613588 6152.999222737513\n",
      "4694.175882108303 6329.3975010100075\n",
      "4472.010019718655 6123.1912387944585\n",
      "4558.859109590229 5995.20384812878\n",
      "4266.222826117448 5788.51734847741\n"
     ]
    },
    {
     "name": "stderr",
     "output_type": "stream",
     "text": [
      "\n",
      "t:  21%|██        | 265/1260 [00:11<00:44, 22.21it/s, now=None]\u001b[A"
     ]
    },
    {
     "name": "stdout",
     "output_type": "stream",
     "text": [
      "4330.351367434953 5551.862713092764\n",
      "4211.4945585443 4806.2299394009415\n",
      "4094.4534015192653 4285.132676367383\n",
      "3711.7109220270972 4088.2103074109755\n",
      "3645.213966907604 3962.970621338705\n"
     ]
    },
    {
     "name": "stderr",
     "output_type": "stream",
     "text": [
      "\n",
      "t:  21%|██▏       | 268/1260 [00:12<00:43, 22.68it/s, now=None]\u001b[A\n",
      "t:  22%|██▏       | 271/1260 [00:12<00:44, 22.30it/s, now=None]\u001b[A"
     ]
    },
    {
     "name": "stdout",
     "output_type": "stream",
     "text": [
      "3771.9455756456136 4105.210911545178\n",
      "3612.848229975783 3600.1692356729304\n",
      "3493.4024688479535 2915.4609508071894\n",
      "3432.211608591523 3338.446119541524\n",
      "3329.0433522731473 3348.0025012870674\n"
     ]
    },
    {
     "name": "stderr",
     "output_type": "stream",
     "text": [
      "\n",
      "t:  22%|██▏       | 274/1260 [00:12<00:43, 22.60it/s, now=None]\u001b[A\n",
      "t:  22%|██▏       | 277/1260 [00:12<00:44, 22.16it/s, now=None]\u001b[A"
     ]
    },
    {
     "name": "stdout",
     "output_type": "stream",
     "text": [
      "3515.154831032146 3918.598731736268\n",
      "3240.398269039748 4052.3276657764836\n",
      "3305.8329422781535 3455.1785598036386\n",
      "3231.155584837994 3501.4731098202756\n",
      "2931.6260133955625 3397.986716799867\n"
     ]
    },
    {
     "name": "stderr",
     "output_type": "stream",
     "text": [
      "\n",
      "t:  22%|██▏       | 280/1260 [00:12<00:45, 21.57it/s, now=None]\u001b[A"
     ]
    },
    {
     "name": "stdout",
     "output_type": "stream",
     "text": [
      "2799.684031611754 3292.477227072392\n",
      "2605.8700343460805 3298.416867202124\n",
      "2591.982475685739 4112.419999699373\n",
      "2535.951119770534 3489.4672491117794\n",
      "2549.7574282568385 3265.343858502537\n"
     ]
    },
    {
     "name": "stderr",
     "output_type": "stream",
     "text": [
      "\n",
      "t:  22%|██▏       | 283/1260 [00:12<00:45, 21.39it/s, now=None]\u001b[A\n",
      "t:  23%|██▎       | 286/1260 [00:12<00:44, 21.65it/s, now=None]\u001b[A"
     ]
    },
    {
     "name": "stdout",
     "output_type": "stream",
     "text": [
      "2565.702283265643 3826.0996213795197\n",
      "2518.5389961079227 3435.3272067764105\n",
      "2408.002042241227 3822.322947292022\n",
      "2404.0223031123105 3722.4277783498674\n",
      "2294.187231166423 3984.4879946978826\n"
     ]
    },
    {
     "name": "stderr",
     "output_type": "stream",
     "text": [
      "\n",
      "t:  23%|██▎       | 289/1260 [00:13<00:44, 21.61it/s, now=None]\u001b[A\n",
      "t:  23%|██▎       | 292/1260 [00:13<00:44, 21.74it/s, now=None]\u001b[A"
     ]
    },
    {
     "name": "stdout",
     "output_type": "stream",
     "text": [
      "2172.567500306678 3857.2134705939707\n",
      "2109.8552850621486 3699.0699344244426\n",
      "2102.4000323098185 2774.15794966806\n",
      "2099.558071902955 2436.0238710777508\n",
      "2074.395288482675 2605.713587861514\n"
     ]
    },
    {
     "name": "stderr",
     "output_type": "stream",
     "text": [
      "\n",
      "t:  23%|██▎       | 295/1260 [00:13<00:45, 21.21it/s, now=None]\u001b[A"
     ]
    },
    {
     "name": "stdout",
     "output_type": "stream",
     "text": [
      "2140.9074292641158 2755.778270859636\n",
      "2071.36718875482 3040.822795932306\n",
      "2017.5368255827323 3055.7530910363257\n",
      "1963.1075604204277 2558.7565113518617\n",
      "1928.5660440130662 2465.3087629390116\n"
     ]
    },
    {
     "name": "stderr",
     "output_type": "stream",
     "text": [
      "\n",
      "t:  24%|██▎       | 298/1260 [00:13<00:46, 20.83it/s, now=None]\u001b[A\n",
      "t:  24%|██▍       | 301/1260 [00:13<00:45, 21.04it/s, now=None]\u001b[A"
     ]
    },
    {
     "name": "stdout",
     "output_type": "stream",
     "text": [
      "1892.7640616645706 2048.1439816046154\n",
      "1901.1672189266944 2075.2646153226865\n",
      "1891.2979459974213 1992.1700996191448\n",
      "1909.9793794952886 1930.490181436481\n",
      "1986.3078682155178 1917.8711384764638\n"
     ]
    },
    {
     "name": "stderr",
     "output_type": "stream",
     "text": [
      "\n",
      "t:  24%|██▍       | 304/1260 [00:13<00:45, 20.96it/s, now=None]\u001b[A"
     ]
    },
    {
     "name": "stdout",
     "output_type": "stream",
     "text": [
      "2086.091603921574 1925.0987191302638\n",
      "2056.9543616503997 2107.4822866048644\n",
      "2248.8403168215286 2943.1179155173354\n",
      "2393.0396674042663 5269.926853400185\n"
     ]
    },
    {
     "name": "stderr",
     "output_type": "stream",
     "text": [
      "\n",
      "t:  24%|██▍       | 307/1260 [00:13<00:46, 20.28it/s, now=None]\u001b[A\n",
      "t:  25%|██▍       | 310/1260 [00:14<00:45, 20.75it/s, now=None]\u001b[A"
     ]
    },
    {
     "name": "stdout",
     "output_type": "stream",
     "text": [
      "2339.315908377375 2074.7477883782763\n",
      "2696.2927725707805 2308.9661706698757\n",
      "3009.861739417937 1945.020328178018\n",
      "4433.470684037372 1906.2058953732153\n",
      "4568.384314564853 1982.9176717387006\n"
     ]
    },
    {
     "name": "stderr",
     "output_type": "stream",
     "text": [
      "\n",
      "t:  25%|██▍       | 313/1260 [00:14<00:44, 21.05it/s, now=None]\u001b[A\n",
      "t:  25%|██▌       | 316/1260 [00:14<00:42, 22.20it/s, now=None]\u001b[A"
     ]
    },
    {
     "name": "stdout",
     "output_type": "stream",
     "text": [
      "5133.423480436096 1954.3129562774022\n",
      "5045.45764657481 1919.2929014427782\n",
      "12753.796110577092 2020.2549381234128\n",
      "49467.85998342069 1997.2137227071742\n",
      "11015.328697680217 1928.0580846681557\n",
      "46973.42897699721 2028.8154026316677\n"
     ]
    },
    {
     "name": "stderr",
     "output_type": "stream",
     "text": [
      "\n",
      "t:  25%|██▌       | 319/1260 [00:14<00:41, 22.88it/s, now=None]\u001b[A\n",
      "t:  26%|██▌       | 322/1260 [00:14<00:42, 22.25it/s, now=None]\u001b[A"
     ]
    },
    {
     "name": "stdout",
     "output_type": "stream",
     "text": [
      "34255.95235855586 2288.6179307232114\n",
      "19582.820572575733 1893.4695116704852\n",
      "7597.332014411975 1918.067723821974\n",
      "5018.808518293883 1899.0735530703275\n",
      "4664.815798274598 2012.3471104115865\n"
     ]
    },
    {
     "name": "stderr",
     "output_type": "stream",
     "text": [
      "\n",
      "t:  26%|██▌       | 325/1260 [00:14<00:43, 21.33it/s, now=None]\u001b[A"
     ]
    },
    {
     "name": "stdout",
     "output_type": "stream",
     "text": [
      "4106.221956579089 2143.4119543821457\n",
      "3796.7744349921704 2017.0238314480694\n",
      "4558.716578430779 2264.8513221645585\n",
      "3356.7990073839733 1921.0725160034897\n",
      "3878.700280096389 1879.339500513294\n"
     ]
    },
    {
     "name": "stderr",
     "output_type": "stream",
     "text": [
      "\n",
      "t:  26%|██▌       | 328/1260 [00:14<00:44, 21.00it/s, now=None]\u001b[A\n",
      "t:  26%|██▋       | 331/1260 [00:14<00:43, 21.55it/s, now=None]\u001b[A"
     ]
    },
    {
     "name": "stdout",
     "output_type": "stream",
     "text": [
      "2964.2220500763187 1901.9950185295047\n",
      "3003.1719230782787 2241.190766443505\n",
      "4331.284367064194 2602.8960807683607\n",
      "3316.300399882767 1866.0971754220218\n",
      "5757.106123236378 1948.6376723574851\n"
     ]
    },
    {
     "name": "stderr",
     "output_type": "stream",
     "text": [
      "\n",
      "t:  27%|██▋       | 334/1260 [00:15<00:42, 21.89it/s, now=None]\u001b[A\n",
      "t:  27%|██▋       | 337/1260 [00:15<00:42, 21.72it/s, now=None]\u001b[A"
     ]
    },
    {
     "name": "stdout",
     "output_type": "stream",
     "text": [
      "8009.538377332065 6968.9143146632005\n",
      "29618.99702349243 2391.4862629674176\n",
      "30294.43965268269 3005.412112311454\n",
      "42888.75383085487 1936.9092199674687\n",
      "10688.697842805479 6254.413716698625\n"
     ]
    },
    {
     "name": "stderr",
     "output_type": "stream",
     "text": [
      "\n",
      "t:  27%|██▋       | 340/1260 [00:15<00:45, 20.31it/s, now=None]\u001b[A"
     ]
    },
    {
     "name": "stdout",
     "output_type": "stream",
     "text": [
      "12264.891392655787 44862.61599442596\n",
      "7757.910132881369 6077.779736376842\n",
      "18327.541906701386 3760.2567592513014\n",
      "16311.215278261583 1927.376943004049\n"
     ]
    },
    {
     "name": "stderr",
     "output_type": "stream",
     "text": [
      "\n",
      "t:  27%|██▋       | 343/1260 [00:15<00:44, 20.46it/s, now=None]\u001b[A\n",
      "t:  27%|██▋       | 346/1260 [00:15<00:43, 21.01it/s, now=None]\u001b[A"
     ]
    },
    {
     "name": "stdout",
     "output_type": "stream",
     "text": [
      "7199.800783450616 1930.7931133459106\n",
      "10687.865347791465 2085.2085157342954\n",
      "5734.868302285911 2017.7212206786367\n",
      "4942.675667642007 1970.5986502433384\n",
      "4977.3029341059155 1999.016819217131\n"
     ]
    },
    {
     "name": "stderr",
     "output_type": "stream",
     "text": [
      "\n",
      "t:  28%|██▊       | 349/1260 [00:15<00:43, 20.97it/s, now=None]\u001b[A"
     ]
    },
    {
     "name": "stdout",
     "output_type": "stream",
     "text": [
      "10972.654131161906 1904.9870038915212\n",
      "19336.23230314754 2210.9816647172556\n",
      "9805.14226943904 2205.7540265301573\n",
      "23946.821917243065 3149.3356641642463\n"
     ]
    },
    {
     "name": "stderr",
     "output_type": "stream",
     "text": [
      "\n",
      "t:  28%|██▊       | 352/1260 [00:16<00:45, 19.91it/s, now=None]\u001b[A\n",
      "t:  28%|██▊       | 355/1260 [00:16<00:42, 21.51it/s, now=None]\u001b[A"
     ]
    },
    {
     "name": "stdout",
     "output_type": "stream",
     "text": [
      "59734.276100136085 2815.401544635947\n",
      "14692.545617979054 2302.2352386439597\n",
      "7644.274128299199 2209.16693502872\n",
      "4452.325734900938 2222.743126079384\n",
      "3335.441021133768 2035.5722416807216\n"
     ]
    },
    {
     "name": "stderr",
     "output_type": "stream",
     "text": [
      "\n",
      "t:  28%|██▊       | 358/1260 [00:16<00:41, 21.69it/s, now=None]\u001b[A"
     ]
    },
    {
     "name": "stdout",
     "output_type": "stream",
     "text": [
      "3396.7675161764305 2252.8529497879667\n",
      "2526.6818336564947 1883.28985662643\n",
      "1907.7485540635219 2018.7690890948998\n",
      "1903.384140469292 2045.6357246845223\n",
      "1840.9017583584641 3828.610738415062\n"
     ]
    },
    {
     "name": "stderr",
     "output_type": "stream",
     "text": [
      "\n",
      "t:  29%|██▊       | 361/1260 [00:16<00:39, 22.73it/s, now=None]\u001b[A\n",
      "t:  29%|██▉       | 364/1260 [00:16<00:38, 23.26it/s, now=None]\u001b[A"
     ]
    },
    {
     "name": "stdout",
     "output_type": "stream",
     "text": [
      "1837.102638224085 2757.9745445479916\n",
      "1850.2216257381262 3445.24538540278\n",
      "1854.1232951661018 2872.7709446509098\n",
      "1875.1694673885222 3972.6591966818205\n",
      "1853.747296614783 2155.213556320389\n",
      "1849.6499599231374 2104.5591312129645\n"
     ]
    },
    {
     "name": "stderr",
     "output_type": "stream",
     "text": [
      "\n",
      "t:  29%|██▉       | 367/1260 [00:16<00:38, 23.40it/s, now=None]\u001b[A\n",
      "t:  29%|██▉       | 370/1260 [00:16<00:38, 22.99it/s, now=None]\u001b[A"
     ]
    },
    {
     "name": "stdout",
     "output_type": "stream",
     "text": [
      "1850.8953965763972 2408.0187825830635\n",
      "1850.9602825176737 2181.5661823564187\n",
      "1864.4455942538727 2376.9466057916975\n",
      "2068.195588638888 16834.093284598213\n",
      "2165.54656713986 14557.707446142602\n"
     ]
    },
    {
     "name": "stderr",
     "output_type": "stream",
     "text": [
      "\n",
      "t:  30%|██▉       | 373/1260 [00:16<00:37, 23.65it/s, now=None]\u001b[A\n",
      "t:  30%|██▉       | 376/1260 [00:17<00:36, 23.99it/s, now=None]\u001b[A"
     ]
    },
    {
     "name": "stdout",
     "output_type": "stream",
     "text": [
      "2477.983252925002 6412.433818238366\n",
      "2864.3679222267588 49770.759272716976\n",
      "3923.3450135783305 14022.742332053309\n",
      "8230.192585277648 11565.609006478528\n",
      "32115.8626851657 34362.20671702793\n"
     ]
    },
    {
     "name": "stderr",
     "output_type": "stream",
     "text": [
      "\n",
      "t:  30%|███       | 379/1260 [00:17<00:38, 22.72it/s, now=None]\u001b[A"
     ]
    },
    {
     "name": "stdout",
     "output_type": "stream",
     "text": [
      "4434.598979559296 3384.426485682147\n",
      "2950.4018472224975 2702.5086382178215\n",
      "2452.335572159031 3783.8052214920085\n",
      "2849.212484052318 2516.989215348259\n",
      "2500.3001878188807 2909.0898142960427\n"
     ]
    },
    {
     "name": "stderr",
     "output_type": "stream",
     "text": [
      "\n",
      "t:  30%|███       | 382/1260 [00:17<00:37, 23.17it/s, now=None]\u001b[A\n",
      "t:  31%|███       | 385/1260 [00:17<00:39, 21.88it/s, now=None]\u001b[A"
     ]
    },
    {
     "name": "stdout",
     "output_type": "stream",
     "text": [
      "2407.6775195177333 2298.443915512606\n",
      "2138.236130398407 2921.094636020444\n",
      "2177.479655214321 3599.6479876181593\n",
      "2282.3964859073176 6820.805737646535\n"
     ]
    },
    {
     "name": "stderr",
     "output_type": "stream",
     "text": [
      "\n",
      "t:  31%|███       | 388/1260 [00:17<00:40, 21.35it/s, now=None]\u001b[A"
     ]
    },
    {
     "name": "stdout",
     "output_type": "stream",
     "text": [
      "2056.549203449121 5162.759445331577\n",
      "2469.529632768784 4142.710683811623\n",
      "2255.9028038099646 10853.12436618829\n",
      "2562.5258876112484 2391.4415555943524\n",
      "2416.610113271725 2592.840928203242\n"
     ]
    },
    {
     "name": "stderr",
     "output_type": "stream",
     "text": [
      "\n",
      "t:  31%|███       | 391/1260 [00:17<00:41, 21.12it/s, now=None]\u001b[A\n",
      "t:  31%|███▏      | 394/1260 [00:17<00:41, 21.02it/s, now=None]\u001b[A"
     ]
    },
    {
     "name": "stdout",
     "output_type": "stream",
     "text": [
      "2514.71330027979 1969.366115374676\n",
      "3277.997239019885 1830.0332328964187\n",
      "4416.596694143756 1829.3420010156706\n",
      "4846.001294125534 2518.5146393450214\n",
      "3930.570991102362 2346.538172494413\n"
     ]
    },
    {
     "name": "stderr",
     "output_type": "stream",
     "text": [
      "\n",
      "t:  32%|███▏      | 397/1260 [00:18<00:40, 21.27it/s, now=None]\u001b[A\n",
      "t:  32%|███▏      | 400/1260 [00:18<00:38, 22.41it/s, now=None]\u001b[A"
     ]
    },
    {
     "name": "stdout",
     "output_type": "stream",
     "text": [
      "6597.632787206631 3278.256235679093\n",
      "12866.452118006957 2870.0003617365087\n",
      "18892.674478989687 3993.639908360075\n",
      "11017.66208619177 8282.002328204733\n",
      "33330.43015783378 2769.3113604117475\n"
     ]
    },
    {
     "name": "stderr",
     "output_type": "stream",
     "text": [
      "\n",
      "t:  32%|███▏      | 403/1260 [00:18<00:38, 22.51it/s, now=None]\u001b[A"
     ]
    },
    {
     "name": "stdout",
     "output_type": "stream",
     "text": [
      "14399.562991979828 3371.3372724713167\n",
      "32195.157435435154 3612.670760353811\n",
      "16000.320328739448 11674.994540525868\n",
      "457274.5522049461 1999.9246436429594\n",
      "124125.79825912153 2208.4380862465973\n"
     ]
    },
    {
     "name": "stderr",
     "output_type": "stream",
     "text": [
      "\n",
      "t:  32%|███▏      | 406/1260 [00:18<00:37, 22.80it/s, now=None]\u001b[A\n",
      "t:  32%|███▏      | 409/1260 [00:18<00:38, 22.36it/s, now=None]\u001b[A"
     ]
    },
    {
     "name": "stdout",
     "output_type": "stream",
     "text": [
      "11934.482805686966 3712.7268169798886\n",
      "77152.4026742438 2820.0132266740015\n",
      "21212.83606393405 6631.274820474788\n",
      "13146.59149634441 3366.3505228779513\n",
      "9378.875687899143 15158.131782848162\n"
     ]
    },
    {
     "name": "stderr",
     "output_type": "stream",
     "text": [
      "\n",
      "t:  33%|███▎      | 412/1260 [00:18<00:36, 23.00it/s, now=None]\u001b[A\n",
      "t:  33%|███▎      | 415/1260 [00:18<00:38, 22.24it/s, now=None]\u001b[A"
     ]
    },
    {
     "name": "stdout",
     "output_type": "stream",
     "text": [
      "17942.03341875122 3378.603726317237\n",
      "147981.4679750083 2983.6719751381843\n",
      "9699.602440556468 2985.20078357732\n",
      "5908.51182603069 5359.00069865262\n",
      "4111.114195951286 4585.796694872489\n"
     ]
    },
    {
     "name": "stderr",
     "output_type": "stream",
     "text": [
      "\n",
      "t:  33%|███▎      | 418/1260 [00:18<00:37, 22.46it/s, now=None]\u001b[A"
     ]
    },
    {
     "name": "stdout",
     "output_type": "stream",
     "text": [
      "2591.052933134561 2922.7444585829453\n",
      "2944.0579029946934 2057.087363576715\n",
      "2311.7471751847775 4068.8301819225676\n",
      "2624.9281236856345 3714.774485642705\n",
      "2820.2396103800647 4352.199248925036\n"
     ]
    },
    {
     "name": "stderr",
     "output_type": "stream",
     "text": [
      "\n",
      "t:  33%|███▎      | 421/1260 [00:19<00:37, 22.57it/s, now=None]\u001b[A\n",
      "t:  34%|███▎      | 424/1260 [00:19<00:35, 23.26it/s, now=None]\u001b[A"
     ]
    },
    {
     "name": "stdout",
     "output_type": "stream",
     "text": [
      "2635.39267757573 2810.5645392847314\n",
      "2864.836464071144 2401.2912339046784\n",
      "4288.155437585085 3337.0137468953862\n",
      "6880.478207465153 4893.396665903937\n",
      "12578.98512689448 5410.096469148068\n"
     ]
    },
    {
     "name": "stderr",
     "output_type": "stream",
     "text": [
      "\n",
      "t:  34%|███▍      | 427/1260 [00:19<00:37, 22.32it/s, now=None]\u001b[A\n",
      "t:  34%|███▍      | 430/1260 [00:19<00:37, 22.31it/s, now=None]\u001b[A"
     ]
    },
    {
     "name": "stdout",
     "output_type": "stream",
     "text": [
      "7899.737210073611 4189.0124670536\n",
      "6551.989461613447 6686.022714390474\n",
      "8554.650503480754 164455.30382095027\n",
      "7729.301592081472 4525.318498963998\n",
      "3591.822215261494 6928.24849227368\n"
     ]
    },
    {
     "name": "stderr",
     "output_type": "stream",
     "text": [
      "\n",
      "t:  34%|███▍      | 433/1260 [00:19<00:39, 20.95it/s, now=None]\u001b[A"
     ]
    },
    {
     "name": "stdout",
     "output_type": "stream",
     "text": [
      "3926.4801910749347 2352.7580779136606\n",
      "3301.6676641704535 2659.9355384331984\n",
      "2615.207469536667 1957.8153041374328\n",
      "2800.050537348772 2350.656866682783\n"
     ]
    },
    {
     "name": "stderr",
     "output_type": "stream",
     "text": [
      "\n",
      "t:  35%|███▍      | 436/1260 [00:19<00:39, 20.88it/s, now=None]\u001b[A"
     ]
    },
    {
     "name": "stdout",
     "output_type": "stream",
     "text": [
      "2391.248582889226 1909.3707365954522\n",
      "1999.4297612989894 1890.4337308713293\n",
      "2070.559845138182 2154.4673924637445\n",
      "2033.7710976506075 6054.835445646364\n",
      "1982.0323033270306 12188.3577282797\n"
     ]
    },
    {
     "name": "stderr",
     "output_type": "stream",
     "text": [
      "\n",
      "t:  35%|███▍      | 439/1260 [00:19<00:40, 20.38it/s, now=None]\u001b[A\n",
      "t:  35%|███▌      | 442/1260 [00:20<00:40, 20.06it/s, now=None]\u001b[A"
     ]
    },
    {
     "name": "stdout",
     "output_type": "stream",
     "text": [
      "2015.451990945659 2247.9620841912933\n",
      "2036.9234739661829 1874.900556081828\n",
      "1992.6430367878565 1858.9030561987856\n",
      "2087.711115081628 1878.9841156594223\n"
     ]
    },
    {
     "name": "stderr",
     "output_type": "stream",
     "text": [
      "\n",
      "t:  35%|███▌      | 445/1260 [00:20<00:41, 19.51it/s, now=None]\u001b[A\n",
      "t:  35%|███▌      | 447/1260 [00:20<00:42, 19.16it/s, now=None]\u001b[A"
     ]
    },
    {
     "name": "stdout",
     "output_type": "stream",
     "text": [
      "2188.531411525461 1939.3353965835254\n",
      "2031.1633496728718 1860.5230132117058\n",
      "2240.2268575504877 1844.3070226181594\n",
      "2343.7565583355777 2735.9598576886788\n"
     ]
    },
    {
     "name": "stderr",
     "output_type": "stream",
     "text": [
      "\n",
      "t:  36%|███▌      | 449/1260 [00:20<00:42, 18.90it/s, now=None]\u001b[A\n",
      "t:  36%|███▌      | 451/1260 [00:20<00:43, 18.67it/s, now=None]\u001b[A"
     ]
    },
    {
     "name": "stdout",
     "output_type": "stream",
     "text": [
      "2817.937699734874 12847.600584862144\n",
      "4085.656903065336 10444.388819247513\n",
      "8569.444268471509 5829.073156504322\n",
      "19521.331639197175 14480.245318959302\n"
     ]
    },
    {
     "name": "stderr",
     "output_type": "stream",
     "text": [
      "\n",
      "t:  36%|███▌      | 454/1260 [00:20<00:40, 20.12it/s, now=None]\u001b[A"
     ]
    },
    {
     "name": "stdout",
     "output_type": "stream",
     "text": [
      "9020.818735961002 3530.374484367184\n",
      "4443.237078467294 6877.269154317581\n",
      "5198.932611333217 87754.34555367458\n",
      "4215.898388700516 5411.41254048715\n",
      "3051.6922235971288 7050.568917362935\n"
     ]
    },
    {
     "name": "stderr",
     "output_type": "stream",
     "text": [
      "\n",
      "t:  36%|███▋      | 457/1260 [00:20<00:41, 19.54it/s, now=None]\u001b[A\n",
      "t:  36%|███▋      | 459/1260 [00:20<00:41, 19.09it/s, now=None]\u001b[A"
     ]
    },
    {
     "name": "stdout",
     "output_type": "stream",
     "text": [
      "2633.1883077223474 11528.459960977363\n",
      "2751.8464658220687 6475.5448233315565\n",
      "2443.0607751299844 3434.5904816879124\n",
      "2504.323870662496 2180.1227513302442\n"
     ]
    },
    {
     "name": "stderr",
     "output_type": "stream",
     "text": [
      "\n",
      "t:  37%|███▋      | 461/1260 [00:21<00:42, 18.66it/s, now=None]\u001b[A\n",
      "t:  37%|███▋      | 464/1260 [00:21<00:39, 20.03it/s, now=None]\u001b[A"
     ]
    },
    {
     "name": "stdout",
     "output_type": "stream",
     "text": [
      "2495.801983789463 1915.8263635563042\n",
      "2604.2323408405096 1824.056452780081\n",
      "2445.4180185725963 1830.3668010775734\n",
      "2561.768887588212 1836.6618092539072\n",
      "3411.362250814677 2050.2412831342986\n"
     ]
    },
    {
     "name": "stderr",
     "output_type": "stream",
     "text": [
      "\n",
      "t:  37%|███▋      | 467/1260 [00:21<00:38, 20.42it/s, now=None]\u001b[A\n",
      "t:  37%|███▋      | 470/1260 [00:21<00:37, 21.30it/s, now=None]\u001b[A"
     ]
    },
    {
     "name": "stdout",
     "output_type": "stream",
     "text": [
      "3460.489609404337 1910.7195944053624\n",
      "3762.7353788322907 7544.265323009394\n",
      "3482.1665060058126 100996.85420448171\n",
      "4629.457038427095 22932.11326295096\n",
      "9683.822323158447 5841.144728656504\n"
     ]
    },
    {
     "name": "stderr",
     "output_type": "stream",
     "text": [
      "\n",
      "t:  38%|███▊      | 473/1260 [00:21<00:37, 21.08it/s, now=None]\u001b[A"
     ]
    },
    {
     "name": "stdout",
     "output_type": "stream",
     "text": [
      "23516.97636280088 29714.741474425166\n",
      "14051.033015177913 2977.7094452147057\n",
      "50318.19262566835 4759.339903195372\n",
      "11339.301980539922 2541.180638039708\n",
      "7324.629409789151 3681.429591287693\n"
     ]
    },
    {
     "name": "stderr",
     "output_type": "stream",
     "text": [
      "\n",
      "t:  38%|███▊      | 476/1260 [00:21<00:37, 20.85it/s, now=None]\u001b[A\n",
      "t:  38%|███▊      | 479/1260 [00:21<00:38, 20.26it/s, now=None]\u001b[A"
     ]
    },
    {
     "name": "stdout",
     "output_type": "stream",
     "text": [
      "5051.0388237222805 2404.8742760298364\n",
      "5762.493267967195 4190.286884400925\n",
      "4578.360718882748 24135.943725445493\n",
      "3955.841769965229 7858.798196118039\n",
      "5089.506150543885 9124.465635034087\n"
     ]
    },
    {
     "name": "stderr",
     "output_type": "stream",
     "text": [
      "\n",
      "t:  38%|███▊      | 482/1260 [00:22<00:37, 21.00it/s, now=None]\u001b[A\n",
      "t:  38%|███▊      | 485/1260 [00:22<00:36, 21.30it/s, now=None]\u001b[A"
     ]
    },
    {
     "name": "stdout",
     "output_type": "stream",
     "text": [
      "4157.997402144732 5753.888637829695\n",
      "4217.074217780593 7739.244702404257\n",
      "4028.0389555292118 8708.272445583581\n",
      "3408.078802903163 2109.34878638735\n",
      "2603.804193055698 1876.9323259433677\n"
     ]
    },
    {
     "name": "stderr",
     "output_type": "stream",
     "text": [
      "\n",
      "t:  39%|███▊      | 488/1260 [00:22<00:37, 20.32it/s, now=None]\u001b[A"
     ]
    },
    {
     "name": "stdout",
     "output_type": "stream",
     "text": [
      "4063.4611380903048 2025.4053044240814\n",
      "4119.17673012407 4799.780058377552\n",
      "14418.498726798718 5955.83126055404\n",
      "15594.494637823474 3788.4786717873562\n"
     ]
    },
    {
     "name": "stderr",
     "output_type": "stream",
     "text": [
      "\n",
      "t:  39%|███▉      | 491/1260 [00:22<00:38, 20.22it/s, now=None]\u001b[A\n",
      "t:  39%|███▉      | 494/1260 [00:22<00:37, 20.24it/s, now=None]\u001b[A"
     ]
    },
    {
     "name": "stdout",
     "output_type": "stream",
     "text": [
      "9790.96552273431 2695.0920148639148\n",
      "135369.69629244917 4187.010238899205\n",
      "7625.886707414448 2519.3494155970384\n",
      "12665.081603100309 2367.47579027254\n",
      "8005.614290677147 2380.455425977339\n"
     ]
    },
    {
     "name": "stderr",
     "output_type": "stream",
     "text": [
      "\n",
      "t:  39%|███▉      | 497/1260 [00:22<00:37, 20.39it/s, now=None]\u001b[A"
     ]
    },
    {
     "name": "stdout",
     "output_type": "stream",
     "text": [
      "107671.84373580429 2107.2594722988933\n",
      "30201.85476559488 1960.652471474044\n",
      "14956.55795431724 7805.702966668528\n",
      "13191.52471007122 9188.717516897428\n",
      "9732.826063694918 2882.330871533807\n"
     ]
    },
    {
     "name": "stderr",
     "output_type": "stream",
     "text": [
      "\n",
      "t:  40%|███▉      | 500/1260 [00:22<00:36, 20.72it/s, now=None]\u001b[A\n",
      "t:  40%|███▉      | 503/1260 [00:23<00:35, 21.11it/s, now=None]\u001b[A"
     ]
    },
    {
     "name": "stdout",
     "output_type": "stream",
     "text": [
      "17843.445517708882 2549.205546661839\n",
      "22855.385058441734 3275.9099197049704\n",
      "12225.615070143953 2100.291940829032\n",
      "20656.719844474388 2717.6568890357366\n",
      "7711.025732733293 5095.535757814091\n"
     ]
    },
    {
     "name": "stderr",
     "output_type": "stream",
     "text": [
      "\n",
      "t:  40%|████      | 506/1260 [00:23<00:36, 20.70it/s, now=None]\u001b[A\n",
      "t:  40%|████      | 509/1260 [00:23<00:35, 21.24it/s, now=None]\u001b[A"
     ]
    },
    {
     "name": "stdout",
     "output_type": "stream",
     "text": [
      "6985.231619541751 9917.95965091008\n",
      "5149.917925553209 11807.655821425284\n",
      "24333.61144267911 8106.452528157632\n",
      "15063.302988693249 3073.6089313822663\n",
      "18247.335583986383 1839.8608736111212\n"
     ]
    },
    {
     "name": "stderr",
     "output_type": "stream",
     "text": [
      "\n",
      "t:  41%|████      | 512/1260 [00:23<00:34, 21.68it/s, now=None]\u001b[A"
     ]
    },
    {
     "name": "stdout",
     "output_type": "stream",
     "text": [
      "5749.281673406647 2095.527505008801\n",
      "8680.315019240708 1820.0679780847552\n",
      "28164.502524406373 2826.022684221148\n",
      "17966.635667056948 343721.91970540787\n",
      "17537.271599749292 2387.0467374074065\n"
     ]
    },
    {
     "name": "stderr",
     "output_type": "stream",
     "text": [
      "\n",
      "t:  41%|████      | 515/1260 [00:23<00:34, 21.52it/s, now=None]\u001b[A\n",
      "t:  41%|████      | 518/1260 [00:23<00:34, 21.82it/s, now=None]\u001b[A"
     ]
    },
    {
     "name": "stdout",
     "output_type": "stream",
     "text": [
      "10947.815325922387 7341.817430133105\n",
      "21617.54396495588 2354.9411584095456\n",
      "9071.971663018221 2330.811279276789\n",
      "6826.558712363873 2714.41695332102\n",
      "4397.535164841304 2749.187854078988\n"
     ]
    },
    {
     "name": "stderr",
     "output_type": "stream",
     "text": [
      "\n",
      "t:  41%|████▏     | 521/1260 [00:23<00:34, 21.60it/s, now=None]\u001b[A\n",
      "t:  42%|████▏     | 524/1260 [00:24<00:34, 21.63it/s, now=None]\u001b[A"
     ]
    },
    {
     "name": "stdout",
     "output_type": "stream",
     "text": [
      "6001.427522691439 4001.026433272251\n",
      "18648.421576563687 12512.309351305761\n",
      "3725.5356711425925 2472.0606796517604\n",
      "6116.421109588317 9684.250432984725\n",
      "1859.4188105833282 1849.9773440510496\n"
     ]
    },
    {
     "name": "stderr",
     "output_type": "stream",
     "text": [
      "\n",
      "t:  42%|████▏     | 527/1260 [00:24<00:34, 21.39it/s, now=None]\u001b[A"
     ]
    },
    {
     "name": "stdout",
     "output_type": "stream",
     "text": [
      "1996.5642990193799 1827.447380754865\n",
      "2941.0135434704334 1993.841876882953\n",
      "2597.7573198744813 2215.782076308074\n",
      "2329.6365692861873 2359.866640388201\n",
      "2911.0102488146367 1958.7987675963961\n"
     ]
    },
    {
     "name": "stderr",
     "output_type": "stream",
     "text": [
      "\n",
      "t:  42%|████▏     | 530/1260 [00:24<00:33, 21.49it/s, now=None]\u001b[A\n",
      "t:  42%|████▏     | 533/1260 [00:24<00:35, 20.63it/s, now=None]\u001b[A"
     ]
    },
    {
     "name": "stdout",
     "output_type": "stream",
     "text": [
      "2754.6456062872694 3433.1945799675927\n",
      "4284.183916245722 59469.88537732371\n",
      "4948.371894429064 18014.851970842126\n",
      "5117.055132331977 3962.7361736605385\n"
     ]
    },
    {
     "name": "stderr",
     "output_type": "stream",
     "text": [
      "\n",
      "t:  43%|████▎     | 536/1260 [00:24<00:35, 20.32it/s, now=None]\u001b[A"
     ]
    },
    {
     "name": "stdout",
     "output_type": "stream",
     "text": [
      "7365.495480756321 26676.81780118139\n",
      "8917.785612107213 44745.013331711176\n",
      "7840.7311388715825 15564.494604907359\n",
      "9465.51185709385 2547.4210077473604\n"
     ]
    },
    {
     "name": "stderr",
     "output_type": "stream",
     "text": [
      "\n",
      "t:  43%|████▎     | 539/1260 [00:24<00:35, 20.52it/s, now=None]\u001b[A\n",
      "t:  43%|████▎     | 542/1260 [00:24<00:33, 21.59it/s, now=None]\u001b[A"
     ]
    },
    {
     "name": "stdout",
     "output_type": "stream",
     "text": [
      "8266.571631396177 3795.7155859435666\n",
      "9370.829230857784 10264.21611929222\n",
      "6853.650178977326 108107.19048337094\n",
      "2572.3458083967666 140026.4520352975\n",
      "1879.6254903457168 4507.377366356183\n"
     ]
    },
    {
     "name": "stderr",
     "output_type": "stream",
     "text": [
      "\n",
      "t:  43%|████▎     | 545/1260 [00:25<00:32, 22.04it/s, now=None]\u001b[A"
     ]
    },
    {
     "name": "stdout",
     "output_type": "stream",
     "text": [
      "1846.8184049336169 2314.791710075812\n",
      "1871.0463287609077 1868.3948777411422\n",
      "1849.4958502635386 1853.4517788308765\n",
      "2366.5259407040267 1960.304656677698\n",
      "2399.7570298505834 2081.753600744574\n"
     ]
    },
    {
     "name": "stderr",
     "output_type": "stream",
     "text": [
      "\n",
      "t:  43%|████▎     | 548/1260 [00:25<00:30, 23.04it/s, now=None]\u001b[A\n",
      "t:  44%|████▎     | 551/1260 [00:25<00:29, 23.84it/s, now=None]\u001b[A"
     ]
    },
    {
     "name": "stdout",
     "output_type": "stream",
     "text": [
      "3283.043140928095 2120.2992421072563\n",
      "2489.8362289653564 2237.3663090600717\n",
      "2373.9094534622523 2648.7240244757145\n",
      "2251.399803622494 2094.4846945412487\n",
      "3361.72678097854 2303.2895085358673\n"
     ]
    },
    {
     "name": "stderr",
     "output_type": "stream",
     "text": [
      "\n",
      "t:  44%|████▍     | 554/1260 [00:25<00:30, 23.01it/s, now=None]\u001b[A\n",
      "t:  44%|████▍     | 557/1260 [00:25<00:31, 22.41it/s, now=None]\u001b[A"
     ]
    },
    {
     "name": "stdout",
     "output_type": "stream",
     "text": [
      "2133.575660885952 2499.7436110287254\n",
      "2036.7483211985984 2570.221499730801\n",
      "1873.6132024492797 1896.0488000407604\n",
      "2012.3862354838539 1894.3008593486572\n",
      "1939.4076215721814 2949.7177106573276\n"
     ]
    },
    {
     "name": "stderr",
     "output_type": "stream",
     "text": [
      "\n",
      "t:  44%|████▍     | 560/1260 [00:25<00:30, 22.87it/s, now=None]\u001b[A"
     ]
    },
    {
     "name": "stdout",
     "output_type": "stream",
     "text": [
      "1892.6477814762077 2668.7352090887007\n",
      "2104.120293062405 5751.37886580951\n",
      "4140.428930923026 2932.1097587176555\n",
      "2364.118512861626 2610.066384466247\n",
      "2143.194301430355 9160.068208272234\n"
     ]
    },
    {
     "name": "stderr",
     "output_type": "stream",
     "text": [
      "\n",
      "t:  45%|████▍     | 563/1260 [00:25<00:30, 23.21it/s, now=None]\u001b[A\n",
      "t:  45%|████▍     | 566/1260 [00:25<00:30, 22.63it/s, now=None]\u001b[A"
     ]
    },
    {
     "name": "stdout",
     "output_type": "stream",
     "text": [
      "1934.2272225522065 6646.904952149477\n",
      "1893.0931762686644 7050.596188814934\n",
      "1870.940347295885 1894.8009551550797\n",
      "1930.2168309462265 1844.128242709756\n",
      "2500.872204077918 1837.6820385844946\n"
     ]
    },
    {
     "name": "stderr",
     "output_type": "stream",
     "text": [
      "\n",
      "t:  45%|████▌     | 569/1260 [00:26<00:31, 22.28it/s, now=None]\u001b[A\n",
      "t:  45%|████▌     | 572/1260 [00:26<00:30, 22.48it/s, now=None]\u001b[A"
     ]
    },
    {
     "name": "stdout",
     "output_type": "stream",
     "text": [
      "4431.228406155367 1972.7719916571064\n",
      "4766.058277544902 1944.721676572385\n",
      "1853.4837896511888 1877.1673781545383\n",
      "1965.3681907729986 1857.154624759696\n",
      "60977.29857970733 1837.6894506022663\n"
     ]
    },
    {
     "name": "stderr",
     "output_type": "stream",
     "text": [
      "\n",
      "t:  46%|████▌     | 575/1260 [00:26<00:31, 21.44it/s, now=None]\u001b[A"
     ]
    },
    {
     "name": "stdout",
     "output_type": "stream",
     "text": [
      "2760.619688238247 1817.920314404092\n",
      "3048.4209752127294 1820.6338457522677\n",
      "2123.5135545791572 1839.8014010209827\n",
      "2903.662513218506 2080.7662245926085\n",
      "13077.84320900562 6340.583294009748\n"
     ]
    },
    {
     "name": "stderr",
     "output_type": "stream",
     "text": [
      "\n",
      "t:  46%|████▌     | 578/1260 [00:26<00:30, 22.43it/s, now=None]\u001b[A\n",
      "t:  46%|████▌     | 581/1260 [00:26<00:29, 22.91it/s, now=None]\u001b[A"
     ]
    },
    {
     "name": "stdout",
     "output_type": "stream",
     "text": [
      "1914.6665907691022 1829.8389393159061\n",
      "3715.5352163626167 1997.0695749969161\n",
      "2112.3879234539513 1832.941716387732\n",
      "1911.8083943485753 1831.7681108497995\n",
      "3476.5464842068154 1884.5205424297371\n"
     ]
    },
    {
     "name": "stderr",
     "output_type": "stream",
     "text": [
      "\n",
      "t:  46%|████▋     | 584/1260 [00:26<00:30, 22.02it/s, now=None]\u001b[A\n",
      "t:  47%|████▋     | 587/1260 [00:26<00:29, 23.07it/s, now=None]\u001b[A"
     ]
    },
    {
     "name": "stdout",
     "output_type": "stream",
     "text": [
      "2129.6690460975483 1857.537796620688\n",
      "6337.313299040364 1893.3798571463121\n",
      "2263.486270386923 1862.0627971755919\n",
      "2370.7099965674556 1940.251282571807\n",
      "2219.275749266747 1938.4580426525395\n",
      "7727.450531085992 1916.5283387683364\n"
     ]
    },
    {
     "name": "stderr",
     "output_type": "stream",
     "text": [
      "\n",
      "t:  47%|████▋     | 590/1260 [00:26<00:28, 23.19it/s, now=None]\u001b[A\n",
      "t:  47%|████▋     | 593/1260 [00:27<00:27, 23.94it/s, now=None]\u001b[A"
     ]
    },
    {
     "name": "stdout",
     "output_type": "stream",
     "text": [
      "2469.7871148820277 1843.7057966491882\n",
      "2670.729495313191 1871.7810309158597\n",
      "2077.3702641300424 2038.9717934711075\n",
      "2386.8805751177647 1921.3022342434444\n",
      "1841.2207331768784 3024.8445719300103\n",
      "2021.9185493922846 2285.6615105523492\n"
     ]
    },
    {
     "name": "stderr",
     "output_type": "stream",
     "text": [
      "\n",
      "t:  47%|████▋     | 596/1260 [00:27<00:27, 24.44it/s, now=None]\u001b[A\n",
      "t:  48%|████▊     | 599/1260 [00:27<00:27, 23.83it/s, now=None]\u001b[A"
     ]
    },
    {
     "name": "stdout",
     "output_type": "stream",
     "text": [
      "1954.9862450125715 2024.2928642378147\n",
      "6830.392191094469 1898.714439466902\n",
      "129409.92538105056 1970.42839792901\n",
      "2901.007200552268 1954.2356271166775\n",
      "1933.096636270109 2214.2860291574716\n"
     ]
    },
    {
     "name": "stderr",
     "output_type": "stream",
     "text": [
      "\n",
      "t:  48%|████▊     | 602/1260 [00:27<00:28, 23.07it/s, now=None]\u001b[A"
     ]
    },
    {
     "name": "stdout",
     "output_type": "stream",
     "text": [
      "2330.317691310979 2478.689903311279\n",
      "2576.6186832739822 2823.6575018529443\n",
      "2540.293417439513 3050.349747876296\n",
      "2752.187508741373 3508.4196824837145\n",
      "2729.513933332443 3833.835687995199\n"
     ]
    },
    {
     "name": "stderr",
     "output_type": "stream",
     "text": [
      "\n",
      "t:  48%|████▊     | 605/1260 [00:27<00:27, 24.00it/s, now=None]\u001b[A\n",
      "t:  48%|████▊     | 608/1260 [00:27<00:29, 21.73it/s, now=None]\u001b[A"
     ]
    },
    {
     "name": "stdout",
     "output_type": "stream",
     "text": [
      "3240.694988301421 4445.055318371352\n",
      "3160.8855818787906 3459.249548440655\n",
      "4212.153190904596 5468.584064331072\n",
      "5571.601829794966 5003.621052373149\n"
     ]
    },
    {
     "name": "stderr",
     "output_type": "stream",
     "text": [
      "\n",
      "t:  48%|████▊     | 611/1260 [00:27<00:29, 21.71it/s, now=None]\u001b[A"
     ]
    },
    {
     "name": "stdout",
     "output_type": "stream",
     "text": [
      "5400.392457859617 4755.549092773214\n",
      "5755.020889951118 4599.298161802123\n",
      "5588.682909847798 3791.0643286180543\n",
      "5487.614036957783 3797.5304442403635\n",
      "5372.5127433481275 4006.1180974283257\n"
     ]
    },
    {
     "name": "stderr",
     "output_type": "stream",
     "text": [
      "\n",
      "t:  49%|████▊     | 614/1260 [00:28<00:29, 21.69it/s, now=None]\u001b[A\n",
      "t:  49%|████▉     | 617/1260 [00:28<00:30, 20.80it/s, now=None]\u001b[A"
     ]
    },
    {
     "name": "stdout",
     "output_type": "stream",
     "text": [
      "5542.328356429443 3517.958796892965\n",
      "6301.27581390127 5465.500820752216\n",
      "6516.6484128463535 4307.443977179854\n",
      "5527.727947641723 3985.859180636964\n"
     ]
    },
    {
     "name": "stderr",
     "output_type": "stream",
     "text": [
      "\n",
      "t:  49%|████▉     | 620/1260 [00:28<00:30, 21.20it/s, now=None]\u001b[A"
     ]
    },
    {
     "name": "stdout",
     "output_type": "stream",
     "text": [
      "5948.583847401844 3666.4268031676575\n",
      "5921.616775801505 3580.745303712951\n",
      "6565.836203200371 4518.692100698003\n",
      "5982.817615488574 4308.727644086309\n",
      "5373.154408417226 4920.117259349361\n"
     ]
    },
    {
     "name": "stderr",
     "output_type": "stream",
     "text": [
      "\n",
      "t:  49%|████▉     | 623/1260 [00:28<00:30, 21.13it/s, now=None]\u001b[A\n",
      "t:  50%|████▉     | 626/1260 [00:28<00:30, 20.54it/s, now=None]\u001b[A"
     ]
    },
    {
     "name": "stdout",
     "output_type": "stream",
     "text": [
      "5176.157737974741 3224.6348454950803\n",
      "4933.725769835884 3069.983505389398\n",
      "4603.443657127772 3390.5027627776913\n",
      "5578.483486038784 5126.685375968623\n"
     ]
    },
    {
     "name": "stderr",
     "output_type": "stream",
     "text": [
      "\n",
      "t:  50%|████▉     | 629/1260 [00:28<00:31, 20.31it/s, now=None]\u001b[A"
     ]
    },
    {
     "name": "stdout",
     "output_type": "stream",
     "text": [
      "5679.919642042478 5287.775313489644\n",
      "5591.107222018923 4962.1612605562905\n",
      "4400.616186365698 6849.613373702637\n",
      "3910.170430775291 5718.27010485122\n",
      "2993.8368487027224 3098.528724332745\n"
     ]
    },
    {
     "name": "stderr",
     "output_type": "stream",
     "text": [
      "\n",
      "t:  50%|█████     | 632/1260 [00:28<00:31, 20.17it/s, now=None]\u001b[A\n",
      "t:  50%|█████     | 635/1260 [00:29<00:29, 21.19it/s, now=None]\u001b[A"
     ]
    },
    {
     "name": "stdout",
     "output_type": "stream",
     "text": [
      "2555.1595000244056 2636.625876296743\n",
      "2640.420136158417 2158.232661601438\n",
      "2240.84449141946 2101.5444680122782\n",
      "2615.3146573381036 3011.963867052566\n",
      "2601.5106977587084 4227.49379659282\n"
     ]
    },
    {
     "name": "stderr",
     "output_type": "stream",
     "text": [
      "\n",
      "t:  51%|█████     | 638/1260 [00:29<00:28, 22.11it/s, now=None]\u001b[A\n",
      "t:  51%|█████     | 641/1260 [00:29<00:28, 21.96it/s, now=None]\u001b[A"
     ]
    },
    {
     "name": "stdout",
     "output_type": "stream",
     "text": [
      "2711.286529245601 5269.268166107975\n",
      "3621.9831856455808 8275.947239265912\n",
      "3285.358456333351 7459.206260283676\n",
      "3085.143451881337 6116.401087648016\n",
      "2634.137697911839 3614.2436394096026\n"
     ]
    },
    {
     "name": "stderr",
     "output_type": "stream",
     "text": [
      "\n",
      "t:  51%|█████     | 644/1260 [00:29<00:27, 22.46it/s, now=None]\u001b[A"
     ]
    },
    {
     "name": "stdout",
     "output_type": "stream",
     "text": [
      "2418.4882700190433 2895.802861062931\n",
      "2214.9614332264537 2093.85249386657\n",
      "2289.094872720768 2403.3738868368105\n",
      "2585.806071530243 2832.1176114491363\n",
      "2874.6404053321694 3391.6783726097756\n"
     ]
    },
    {
     "name": "stderr",
     "output_type": "stream",
     "text": [
      "\n",
      "t:  51%|█████▏    | 647/1260 [00:29<00:27, 22.31it/s, now=None]\u001b[A\n",
      "t:  52%|█████▏    | 650/1260 [00:29<00:26, 22.97it/s, now=None]\u001b[A"
     ]
    },
    {
     "name": "stdout",
     "output_type": "stream",
     "text": [
      "3261.4253037108856 3695.388922625698\n",
      "3480.8503797645203 3120.1031635886848\n",
      "3514.8404531514257 2920.8745974202748\n",
      "3652.883904359501 2747.091013426062\n",
      "3498.730594263292 2735.6117852142884\n"
     ]
    },
    {
     "name": "stderr",
     "output_type": "stream",
     "text": [
      "\n",
      "t:  52%|█████▏    | 653/1260 [00:29<00:29, 20.91it/s, now=None]\u001b[A"
     ]
    },
    {
     "name": "stdout",
     "output_type": "stream",
     "text": [
      "3527.452351663684 2974.0764644431247\n",
      "3445.55253513737 2615.575299402285\n",
      "3937.717742115875 2734.0035413294654\n",
      "4071.3939723147187 2911.9590464411003\n"
     ]
    },
    {
     "name": "stderr",
     "output_type": "stream",
     "text": [
      "\n",
      "t:  52%|█████▏    | 656/1260 [00:30<00:29, 20.54it/s, now=None]\u001b[A\n",
      "t:  52%|█████▏    | 659/1260 [00:30<00:29, 20.59it/s, now=None]\u001b[A"
     ]
    },
    {
     "name": "stdout",
     "output_type": "stream",
     "text": [
      "4181.431527487432 2702.251575459168\n",
      "4139.283194053897 2480.247122741147\n",
      "4221.698364588992 2418.036325905172\n",
      "4089.948259073162 2637.2320799430067\n",
      "3995.959499733705 2551.783823004982\n"
     ]
    },
    {
     "name": "stderr",
     "output_type": "stream",
     "text": [
      "\n",
      "t:  53%|█████▎    | 662/1260 [00:30<00:29, 20.55it/s, now=None]\u001b[A\n",
      "t:  53%|█████▎    | 665/1260 [00:30<00:28, 20.87it/s, now=None]\u001b[A"
     ]
    },
    {
     "name": "stdout",
     "output_type": "stream",
     "text": [
      "3911.1842145310275 2526.718788574072\n",
      "3679.6522642440186 2702.6926486748275\n",
      "3525.3668850145846 2363.9789804836328\n",
      "3155.294896260215 2276.9080530235606\n",
      "3325.773245208592 2368.77399333725\n"
     ]
    },
    {
     "name": "stderr",
     "output_type": "stream",
     "text": [
      "\n",
      "t:  53%|█████▎    | 668/1260 [00:30<00:30, 19.37it/s, now=None]\u001b[A"
     ]
    },
    {
     "name": "stdout",
     "output_type": "stream",
     "text": [
      "3427.1682887729157 2701.2975018051875\n",
      "3192.402682451142 2931.1981938654885\n",
      "3060.1807074046396 2998.7377096730293\n",
      "2838.480006664175 3004.546384544344\n"
     ]
    },
    {
     "name": "stderr",
     "output_type": "stream",
     "text": [
      "\n",
      "t:  53%|█████▎    | 670/1260 [00:30<00:31, 18.69it/s, now=None]\u001b[A\n",
      "t:  53%|█████▎    | 673/1260 [00:30<00:29, 20.21it/s, now=None]\u001b[A"
     ]
    },
    {
     "name": "stdout",
     "output_type": "stream",
     "text": [
      "2760.314227241935 2872.0105653876885\n",
      "2713.9063948968123 2715.4344822627304\n",
      "2591.456916159556 2510.7409211569784\n",
      "2510.2914608416127 2943.9552090242464\n",
      "2587.777113170848 2503.24914909303\n"
     ]
    },
    {
     "name": "stderr",
     "output_type": "stream",
     "text": [
      "\n",
      "t:  54%|█████▎    | 676/1260 [00:31<00:29, 19.68it/s, now=None]\u001b[A"
     ]
    },
    {
     "name": "stdout",
     "output_type": "stream",
     "text": [
      "2601.4372793883913 3044.8598670235638\n",
      "2463.766665700139 3063.8069091906823\n",
      "2546.5714547024118 3047.360487896714\n",
      "2951.7450895012894 3308.9818625009198\n"
     ]
    },
    {
     "name": "stderr",
     "output_type": "stream",
     "text": [
      "\n",
      "t:  54%|█████▍    | 679/1260 [00:31<00:30, 19.24it/s, now=None]\u001b[A\n",
      "t:  54%|█████▍    | 682/1260 [00:31<00:28, 20.43it/s, now=None]\u001b[A"
     ]
    },
    {
     "name": "stdout",
     "output_type": "stream",
     "text": [
      "2645.4925824521893 2848.090459966062\n",
      "2870.7320719514055 3023.1421508434696\n",
      "3093.475069155806 3282.875317838091\n",
      "3346.7144283881 3354.201282994158\n",
      "3498.519676584273 3432.180623317011\n"
     ]
    },
    {
     "name": "stderr",
     "output_type": "stream",
     "text": [
      "\n",
      "t:  54%|█████▍    | 685/1260 [00:31<00:28, 20.14it/s, now=None]\u001b[A"
     ]
    },
    {
     "name": "stdout",
     "output_type": "stream",
     "text": [
      "3101.6427220326204 3156.633501595844\n",
      "3464.9885063572656 2711.7976841607106\n",
      "3651.6783890605366 3025.2036066292317\n",
      "3674.4062451236746 2944.010239452657\n"
     ]
    },
    {
     "name": "stderr",
     "output_type": "stream",
     "text": [
      "\n",
      "t:  55%|█████▍    | 688/1260 [00:31<00:28, 19.74it/s, now=None]\u001b[A\n",
      "t:  55%|█████▍    | 690/1260 [00:31<00:29, 19.30it/s, now=None]\u001b[A"
     ]
    },
    {
     "name": "stdout",
     "output_type": "stream",
     "text": [
      "3490.2272685904654 3670.464344538106\n",
      "3668.5417996583933 3231.7410831797984\n",
      "3259.6552876084584 2764.498141995103\n",
      "4037.028885427579 3218.311807051944\n",
      "4222.873658485447 3314.9516094643186\n"
     ]
    },
    {
     "name": "stderr",
     "output_type": "stream",
     "text": [
      "\n",
      "t:  55%|█████▌    | 693/1260 [00:31<00:27, 20.32it/s, now=None]\u001b[A\n",
      "t:  55%|█████▌    | 696/1260 [00:32<00:26, 21.08it/s, now=None]\u001b[A"
     ]
    },
    {
     "name": "stdout",
     "output_type": "stream",
     "text": [
      "4144.258820232396 3426.323571973595\n",
      "4275.606253782096 3727.5226768914963\n",
      "4370.148761853985 3279.3496453962607\n",
      "4446.46989748471 3388.9070801312155\n",
      "4459.052582168168 3763.4161133673642\n"
     ]
    },
    {
     "name": "stderr",
     "output_type": "stream",
     "text": [
      "\n",
      "t:  55%|█████▌    | 699/1260 [00:32<00:25, 21.59it/s, now=None]\u001b[A"
     ]
    },
    {
     "name": "stdout",
     "output_type": "stream",
     "text": [
      "4274.1909151997825 3885.373892541234\n",
      "4654.722041068832 4062.2930541574337\n",
      "4390.831928328768 3901.8999827373\n",
      "4389.570666189285 4497.891192875864\n"
     ]
    },
    {
     "name": "stderr",
     "output_type": "stream",
     "text": [
      "\n",
      "t:  56%|█████▌    | 702/1260 [00:32<00:26, 20.97it/s, now=None]\u001b[A\n",
      "t:  56%|█████▌    | 705/1260 [00:32<00:24, 22.36it/s, now=None]\u001b[A"
     ]
    },
    {
     "name": "stdout",
     "output_type": "stream",
     "text": [
      "4430.9856776344695 4600.118962678864\n",
      "3992.022403510258 4544.576236535318\n",
      "4006.87718258253 4408.233012762478\n",
      "4300.135554065928 4524.828021740524\n",
      "3930.9423383107915 4889.873813385704\n"
     ]
    },
    {
     "name": "stderr",
     "output_type": "stream",
     "text": [
      "\n",
      "t:  56%|█████▌    | 708/1260 [00:32<00:24, 22.15it/s, now=None]\u001b[A\n",
      "t:  56%|█████▋    | 711/1260 [00:32<00:25, 21.85it/s, now=None]\u001b[A"
     ]
    },
    {
     "name": "stdout",
     "output_type": "stream",
     "text": [
      "3877.374639360065 5398.547011872466\n",
      "3586.618444600879 4749.762258497732\n",
      "3577.357686615066 4566.808898113555\n",
      "3803.215363497086 4479.790953545658\n",
      "3698.7171977296266 4479.528739269109\n"
     ]
    },
    {
     "name": "stderr",
     "output_type": "stream",
     "text": [
      "\n",
      "t:  57%|█████▋    | 714/1260 [00:32<00:24, 22.65it/s, now=None]\u001b[A"
     ]
    },
    {
     "name": "stdout",
     "output_type": "stream",
     "text": [
      "3456.384798551976 4571.2219689526955\n",
      "3383.5724872481646 4132.663921297311\n",
      "3246.8390423273904 3642.7852087167944\n",
      "4059.231480937386 3937.9673579680093\n",
      "3932.892737281843 4549.09032876506\n"
     ]
    },
    {
     "name": "stderr",
     "output_type": "stream",
     "text": [
      "\n",
      "t:  57%|█████▋    | 717/1260 [00:32<00:24, 21.88it/s, now=None]\u001b[A\n",
      "t:  57%|█████▋    | 720/1260 [00:33<00:24, 21.79it/s, now=None]\u001b[A"
     ]
    },
    {
     "name": "stdout",
     "output_type": "stream",
     "text": [
      "3993.246163154212 4010.8698684421693\n",
      "3690.422636233961 4009.354149855662\n",
      "3726.490228586667 3726.2342267154763\n",
      "3839.489428799752 3426.5169493063854\n",
      "3606.5829360895473 3366.915751718838\n"
     ]
    },
    {
     "name": "stderr",
     "output_type": "stream",
     "text": [
      "\n",
      "t:  57%|█████▋    | 723/1260 [00:33<00:23, 22.54it/s, now=None]\u001b[A\n",
      "t:  58%|█████▊    | 726/1260 [00:33<00:22, 23.29it/s, now=None]\u001b[A"
     ]
    },
    {
     "name": "stdout",
     "output_type": "stream",
     "text": [
      "3834.341923108532 3067.871222878386\n",
      "3634.429538344306 3010.759794511651\n",
      "3605.454618012615 3039.713031386204\n",
      "3602.3190763741627 2960.975829819449\n",
      "3679.7091219605795 2591.8900050168972\n",
      "4146.954031720359 2548.187544432188\n"
     ]
    },
    {
     "name": "stderr",
     "output_type": "stream",
     "text": [
      "\n",
      "t:  58%|█████▊    | 729/1260 [00:33<00:22, 23.78it/s, now=None]\u001b[A\n",
      "t:  58%|█████▊    | 732/1260 [00:33<00:22, 23.23it/s, now=None]\u001b[A"
     ]
    },
    {
     "name": "stdout",
     "output_type": "stream",
     "text": [
      "3451.2405250198685 2727.3612877181954\n",
      "3898.685637410046 2170.21064397637\n",
      "3896.8874715191555 2338.535001271996\n",
      "3851.3550187693745 2699.553590577905\n",
      "3660.196506654562 3302.7512288526173\n"
     ]
    },
    {
     "name": "stderr",
     "output_type": "stream",
     "text": [
      "\n",
      "t:  58%|█████▊    | 735/1260 [00:33<00:22, 23.08it/s, now=None]\u001b[A"
     ]
    },
    {
     "name": "stdout",
     "output_type": "stream",
     "text": [
      "3776.9556051615787 4108.618593733504\n",
      "3963.8297033407334 4168.007993079303\n",
      "3680.4074695922077 3830.138470966656\n",
      "3792.1215896240506 3741.260111017025\n",
      "3653.571268485967 4041.012943781051\n"
     ]
    },
    {
     "name": "stderr",
     "output_type": "stream",
     "text": [
      "\n",
      "t:  59%|█████▊    | 738/1260 [00:33<00:22, 22.96it/s, now=None]\u001b[A\n",
      "t:  59%|█████▉    | 741/1260 [00:34<00:22, 22.72it/s, now=None]\u001b[A"
     ]
    },
    {
     "name": "stdout",
     "output_type": "stream",
     "text": [
      "3486.8760785226536 3747.001209759927\n",
      "3433.093855223394 3802.817775342472\n",
      "3575.0278488883687 3479.5500444322643\n",
      "3548.4112520708554 3594.151794871414\n",
      "3489.6394047180534 3582.367895692111\n"
     ]
    },
    {
     "name": "stderr",
     "output_type": "stream",
     "text": [
      "\n",
      "t:  59%|█████▉    | 744/1260 [00:34<00:22, 23.30it/s, now=None]\u001b[A\n",
      "t:  59%|█████▉    | 747/1260 [00:34<00:21, 23.60it/s, now=None]\u001b[A"
     ]
    },
    {
     "name": "stdout",
     "output_type": "stream",
     "text": [
      "3472.9969312525677 4628.828218210212\n",
      "3501.0031638842356 4917.006471602039\n",
      "3546.8033485356164 4901.348273580817\n",
      "3304.345362854739 4385.873984898215\n",
      "3197.4004664785593 4206.420894501471\n"
     ]
    },
    {
     "name": "stderr",
     "output_type": "stream",
     "text": [
      "\n",
      "t:  60%|█████▉    | 750/1260 [00:34<00:22, 22.31it/s, now=None]\u001b[A"
     ]
    },
    {
     "name": "stdout",
     "output_type": "stream",
     "text": [
      "3256.143154306826 4277.898705679544\n",
      "3116.516867495355 4248.188389452265\n",
      "3116.7047536794953 4307.997312575042\n",
      "3064.1943749031116 4037.6872001952943\n",
      "3312.68023133615 3221.311243267429\n"
     ]
    },
    {
     "name": "stderr",
     "output_type": "stream",
     "text": [
      "\n",
      "t:  60%|█████▉    | 753/1260 [00:34<00:23, 22.03it/s, now=None]\u001b[A\n",
      "t:  60%|██████    | 756/1260 [00:34<00:23, 21.51it/s, now=None]\u001b[A"
     ]
    },
    {
     "name": "stdout",
     "output_type": "stream",
     "text": [
      "3322.302261581305 2394.115188233455\n",
      "3429.1815799093133 2266.7658406388023\n",
      "3690.942179432849 2124.326950153015\n",
      "3763.139315432358 2717.5241486003983\n",
      "3662.070641611538 2184.5965350580327\n"
     ]
    },
    {
     "name": "stderr",
     "output_type": "stream",
     "text": [
      "\n",
      "t:  60%|██████    | 759/1260 [00:34<00:22, 22.40it/s, now=None]\u001b[A\n",
      "t:  60%|██████    | 762/1260 [00:34<00:21, 23.29it/s, now=None]\u001b[A"
     ]
    },
    {
     "name": "stdout",
     "output_type": "stream",
     "text": [
      "3730.7958363500384 2054.4814978874842\n",
      "3668.146988185931 2499.42510100583\n",
      "3879.907323704511 2365.753108464371\n",
      "4072.219875576156 2683.661079745241\n",
      "4005.9716013816424 2948.349279831663\n"
     ]
    },
    {
     "name": "stderr",
     "output_type": "stream",
     "text": [
      "\n",
      "t:  61%|██████    | 765/1260 [00:35<00:21, 23.15it/s, now=None]\u001b[A"
     ]
    },
    {
     "name": "stdout",
     "output_type": "stream",
     "text": [
      "3891.8812755160484 2853.196741163434\n",
      "3894.164097891048 2758.844506796285\n",
      "3870.731337840587 2614.776884809736\n",
      "4032.3170820748037 3896.0190784796055\n",
      "4140.990487377959 2065.434280257273\n"
     ]
    },
    {
     "name": "stderr",
     "output_type": "stream",
     "text": [
      "\n",
      "t:  61%|██████    | 768/1260 [00:35<00:22, 22.23it/s, now=None]\u001b[A\n",
      "t:  61%|██████    | 771/1260 [00:35<00:23, 21.14it/s, now=None]\u001b[A"
     ]
    },
    {
     "name": "stdout",
     "output_type": "stream",
     "text": [
      "4022.288292817068 2029.0530828423352\n",
      "4108.867802261454 1962.2269568946215\n",
      "4262.10724263197 2451.807193440536\n",
      "4375.9979272635765 2663.5249924787695\n"
     ]
    },
    {
     "name": "stderr",
     "output_type": "stream",
     "text": [
      "\n",
      "t:  61%|██████▏   | 774/1260 [00:35<00:23, 20.78it/s, now=None]\u001b[A"
     ]
    },
    {
     "name": "stdout",
     "output_type": "stream",
     "text": [
      "3974.6792174801753 2694.0983939248777\n",
      "3874.4106103996455 2506.1959862200147\n",
      "3595.4058788184693 2481.747516307787\n",
      "3207.7617007819895 2410.0710848558947\n",
      "3452.2289861356826 2119.975122535859\n"
     ]
    },
    {
     "name": "stderr",
     "output_type": "stream",
     "text": [
      "\n",
      "t:  62%|██████▏   | 777/1260 [00:35<00:23, 20.90it/s, now=None]\u001b[A\n",
      "t:  62%|██████▏   | 780/1260 [00:35<00:24, 19.67it/s, now=None]\u001b[A"
     ]
    },
    {
     "name": "stdout",
     "output_type": "stream",
     "text": [
      "3735.4615879457815 2063.2375763261452\n",
      "3288.368255053012 2322.9381733859454\n",
      "3494.290365479615 2765.6570862242284\n",
      "3330.6024246895604 3104.0588542657483\n"
     ]
    },
    {
     "name": "stderr",
     "output_type": "stream",
     "text": [
      "\n",
      "t:  62%|██████▏   | 783/1260 [00:35<00:22, 20.78it/s, now=None]\u001b[A"
     ]
    },
    {
     "name": "stdout",
     "output_type": "stream",
     "text": [
      "3232.213217333579 2892.8827497614184\n",
      "2973.779903986477 2995.3515066124196\n",
      "2777.717405315637 2690.547025449719\n",
      "2674.2114623644575 2801.3034739563323\n",
      "2668.836693464215 2555.597540605565\n"
     ]
    },
    {
     "name": "stderr",
     "output_type": "stream",
     "text": [
      "\n",
      "t:  62%|██████▏   | 786/1260 [00:36<00:22, 21.21it/s, now=None]\u001b[A\n",
      "t:  63%|██████▎   | 789/1260 [00:36<00:22, 21.12it/s, now=None]\u001b[A"
     ]
    },
    {
     "name": "stdout",
     "output_type": "stream",
     "text": [
      "2404.3505385513304 2353.9995856885557\n",
      "2360.972825752041 2204.922321788437\n",
      "2382.7564623399044 2126.4128162576844\n",
      "2337.432948931547 1939.9975110842195\n",
      "2360.335529546156 1944.2409739634516\n"
     ]
    },
    {
     "name": "stderr",
     "output_type": "stream",
     "text": [
      "\n",
      "t:  63%|██████▎   | 792/1260 [00:36<00:21, 21.34it/s, now=None]\u001b[A\n",
      "t:  63%|██████▎   | 795/1260 [00:36<00:21, 21.69it/s, now=None]\u001b[A"
     ]
    },
    {
     "name": "stdout",
     "output_type": "stream",
     "text": [
      "2369.1700271618424 1934.3670307310301\n",
      "2432.4418666978777 1932.2446189689117\n",
      "2342.6267827468205 1957.4112569050885\n",
      "2244.765146293664 1941.8229041082716\n",
      "2321.0367801927573 1932.5254383297395\n"
     ]
    },
    {
     "name": "stderr",
     "output_type": "stream",
     "text": [
      "\n",
      "t:  63%|██████▎   | 798/1260 [00:36<00:20, 22.30it/s, now=None]\u001b[A"
     ]
    },
    {
     "name": "stdout",
     "output_type": "stream",
     "text": [
      "2369.3959991583138 1990.8442097375014\n",
      "2696.184579650286 2441.8825068840365\n",
      "2622.9333451478783 2360.9287366669673\n",
      "2747.689342279949 2419.8819038506444\n",
      "2674.0033581195157 2290.0103352696724\n"
     ]
    },
    {
     "name": "stderr",
     "output_type": "stream",
     "text": [
      "\n",
      "t:  64%|██████▎   | 801/1260 [00:36<00:20, 22.14it/s, now=None]\u001b[A\n",
      "t:  64%|██████▍   | 804/1260 [00:36<00:21, 21.43it/s, now=None]\u001b[A"
     ]
    },
    {
     "name": "stdout",
     "output_type": "stream",
     "text": [
      "2699.62412159701 2134.1270037415047\n",
      "2675.194435224501 2281.44741434449\n",
      "2777.6207448632745 2349.638086034231\n",
      "2877.147815903942 2271.6488727355827\n",
      "3356.7534671963895 2754.5708108284216\n"
     ]
    },
    {
     "name": "stderr",
     "output_type": "stream",
     "text": [
      "\n",
      "t:  64%|██████▍   | 807/1260 [00:37<00:20, 21.96it/s, now=None]\u001b[A"
     ]
    },
    {
     "name": "stdout",
     "output_type": "stream",
     "text": [
      "3704.244273415795 3095.645311920546\n",
      "3729.775716540111 3375.2831528935776\n",
      "3855.320001163186 3636.8588406211197\n",
      "3928.5474572381827 3799.4946775518515\n",
      "3617.0278424724393 3617.892476326427\n"
     ]
    },
    {
     "name": "stderr",
     "output_type": "stream",
     "text": [
      "\n",
      "t:  64%|██████▍   | 810/1260 [00:37<00:20, 21.52it/s, now=None]\u001b[A\n",
      "t:  65%|██████▍   | 813/1260 [00:37<00:20, 21.45it/s, now=None]\u001b[A"
     ]
    },
    {
     "name": "stdout",
     "output_type": "stream",
     "text": [
      "3769.6405065426798 3642.7556595441138\n",
      "3633.690282674779 4096.76479939142\n",
      "3483.500796565845 4541.704399733263\n",
      "3206.704933864551 4429.339754718917\n"
     ]
    },
    {
     "name": "stderr",
     "output_type": "stream",
     "text": [
      "\n",
      "t:  65%|██████▍   | 816/1260 [00:37<00:21, 20.44it/s, now=None]\u001b[A\n",
      "t:  65%|██████▌   | 819/1260 [00:37<00:20, 21.00it/s, now=None]\u001b[A"
     ]
    },
    {
     "name": "stdout",
     "output_type": "stream",
     "text": [
      "3047.8495201169494 4443.094519927022\n",
      "2985.8184281966924 4054.7811922865153\n",
      "3310.73633169331 4930.611516012227\n",
      "3464.1442998288235 5402.970295886159\n",
      "3141.892532530663 5815.23357575763\n"
     ]
    },
    {
     "name": "stderr",
     "output_type": "stream",
     "text": [
      "\n",
      "t:  65%|██████▌   | 822/1260 [00:37<00:20, 21.11it/s, now=None]\u001b[A"
     ]
    },
    {
     "name": "stdout",
     "output_type": "stream",
     "text": [
      "2818.1827759591206 5513.381655146255\n",
      "2971.0036731214614 4694.846066135283\n",
      "2802.413625628198 4252.1733501038825\n",
      "2677.906348513572 3800.6713201352563\n",
      "2624.2947798123378 3585.37679513031\n"
     ]
    },
    {
     "name": "stderr",
     "output_type": "stream",
     "text": [
      "\n",
      "t:  65%|██████▌   | 825/1260 [00:37<00:20, 21.31it/s, now=None]\u001b[A\n",
      "t:  66%|██████▌   | 828/1260 [00:38<00:19, 22.14it/s, now=None]\u001b[A"
     ]
    },
    {
     "name": "stdout",
     "output_type": "stream",
     "text": [
      "2920.7919800550067 3528.1573707216685\n",
      "3214.730223209846 3842.439274952297\n",
      "3306.446540414403 4312.094658159826\n",
      "3546.269009045977 4125.613821174765\n",
      "3611.682590258688 4374.799323871845\n"
     ]
    },
    {
     "name": "stderr",
     "output_type": "stream",
     "text": [
      "\n",
      "t:  66%|██████▌   | 831/1260 [00:38<00:18, 22.82it/s, now=None]\u001b[A\n",
      "t:  66%|██████▌   | 834/1260 [00:38<00:18, 23.13it/s, now=None]\u001b[A"
     ]
    },
    {
     "name": "stdout",
     "output_type": "stream",
     "text": [
      "4068.7031772711152 4211.46057033408\n",
      "3872.241097899501 4399.489909447976\n",
      "4053.888353422387 4012.784699107818\n",
      "3921.5675190636452 3798.6452174536385\n",
      "4130.210033584672 4103.481328755864\n"
     ]
    },
    {
     "name": "stderr",
     "output_type": "stream",
     "text": [
      "\n",
      "t:  66%|██████▋   | 837/1260 [00:38<00:18, 22.55it/s, now=None]\u001b[A"
     ]
    },
    {
     "name": "stdout",
     "output_type": "stream",
     "text": [
      "3842.8915545093923 3277.158664857004\n",
      "3890.8101334109906 2556.051087392633\n",
      "3701.846178940581 2566.8547531434688\n",
      "3575.388976998123 2277.0398941710805\n",
      "4128.427502277773 2831.9481090976524\n"
     ]
    },
    {
     "name": "stderr",
     "output_type": "stream",
     "text": [
      "\n",
      "t:  67%|██████▋   | 840/1260 [00:38<00:18, 22.80it/s, now=None]\u001b[A\n",
      "t:  67%|██████▋   | 843/1260 [00:38<00:18, 22.59it/s, now=None]\u001b[A"
     ]
    },
    {
     "name": "stdout",
     "output_type": "stream",
     "text": [
      "4179.06851170504 3058.1146361797782\n",
      "4140.345644713064 3313.06256731448\n",
      "3933.75761480945 3002.703387066213\n",
      "3859.9038260465604 2751.2016895064476\n"
     ]
    },
    {
     "name": "stderr",
     "output_type": "stream",
     "text": [
      "\n",
      "t:  67%|██████▋   | 846/1260 [00:38<00:19, 21.50it/s, now=None]\u001b[A"
     ]
    },
    {
     "name": "stdout",
     "output_type": "stream",
     "text": [
      "3520.8711910419042 2875.168534714993\n",
      "3166.5480175429175 2858.1707999946557\n",
      "2935.961815568628 2762.245521090366\n",
      "2886.8133123938337 2202.429897683421\n"
     ]
    },
    {
     "name": "stderr",
     "output_type": "stream",
     "text": [
      "\n",
      "t:  67%|██████▋   | 849/1260 [00:38<00:20, 20.54it/s, now=None]\u001b[A\n",
      "t:  68%|██████▊   | 852/1260 [00:39<00:19, 21.07it/s, now=None]\u001b[A"
     ]
    },
    {
     "name": "stdout",
     "output_type": "stream",
     "text": [
      "2849.6561406927053 2005.083327291122\n",
      "2731.6346741213056 1959.4304856389715\n",
      "2500.881671958285 1981.444898585699\n",
      "2499.9809239398305 2021.2417000118537\n",
      "2467.673083782193 2164.770593624793\n"
     ]
    },
    {
     "name": "stderr",
     "output_type": "stream",
     "text": [
      "\n",
      "t:  68%|██████▊   | 855/1260 [00:39<00:19, 20.96it/s, now=None]\u001b[A"
     ]
    },
    {
     "name": "stdout",
     "output_type": "stream",
     "text": [
      "2395.4428046304915 2169.690276178044\n",
      "2541.011487310796 2633.6299839360054\n",
      "2345.082541730949 2668.0746400086778\n",
      "2161.575637968629 2692.6538946221744\n"
     ]
    },
    {
     "name": "stderr",
     "output_type": "stream",
     "text": [
      "\n",
      "t:  68%|██████▊   | 858/1260 [00:39<00:19, 20.19it/s, now=None]\u001b[A\n",
      "t:  68%|██████▊   | 861/1260 [00:39<00:19, 20.90it/s, now=None]\u001b[A"
     ]
    },
    {
     "name": "stdout",
     "output_type": "stream",
     "text": [
      "2162.6886023471693 2750.13372557764\n",
      "2162.8870429448443 2670.71118570863\n",
      "2179.999697483999 2937.5863082319456\n",
      "2313.241182025107 2225.2922366092735\n",
      "2232.120971590095 2207.057477751278\n"
     ]
    },
    {
     "name": "stderr",
     "output_type": "stream",
     "text": [
      "\n",
      "t:  69%|██████▊   | 864/1260 [00:39<00:18, 21.71it/s, now=None]\u001b[A"
     ]
    },
    {
     "name": "stdout",
     "output_type": "stream",
     "text": [
      "2284.677347080876 2692.178363874441\n",
      "2398.6008581391943 2536.260577474838\n",
      "2311.754115936395 2517.50849796431\n",
      "2428.1829049878675 2632.9048512976847\n",
      "2359.756809848515 2643.7174004113162\n"
     ]
    },
    {
     "name": "stderr",
     "output_type": "stream",
     "text": [
      "\n",
      "t:  69%|██████▉   | 867/1260 [00:39<00:18, 21.08it/s, now=None]\u001b[A\n",
      "t:  69%|██████▉   | 870/1260 [00:39<00:18, 21.40it/s, now=None]\u001b[A"
     ]
    },
    {
     "name": "stdout",
     "output_type": "stream",
     "text": [
      "2482.0903613001587 3069.5746128371825\n",
      "2447.8110482504926 3019.5275074244046\n",
      "2382.2377908448993 3140.02431367304\n",
      "2551.6050807761344 2755.53053364597\n",
      "2605.6847441440727 2227.3936582423757\n"
     ]
    },
    {
     "name": "stderr",
     "output_type": "stream",
     "text": [
      "\n",
      "t:  69%|██████▉   | 873/1260 [00:40<00:18, 21.26it/s, now=None]\u001b[A"
     ]
    },
    {
     "name": "stdout",
     "output_type": "stream",
     "text": [
      "2783.5974457602083 1982.8273148668368\n",
      "2745.279321603887 1988.8276293438857\n",
      "2996.0816918422547 2508.241457345085\n",
      "2728.1588960879435 2060.4969489215473\n",
      "2703.8421171258506 4953.0246606612145\n"
     ]
    },
    {
     "name": "stderr",
     "output_type": "stream",
     "text": [
      "\n",
      "t:  70%|██████▉   | 876/1260 [00:40<00:18, 20.90it/s, now=None]\u001b[A\n",
      "t:  70%|██████▉   | 879/1260 [00:40<00:18, 21.11it/s, now=None]\u001b[A"
     ]
    },
    {
     "name": "stdout",
     "output_type": "stream",
     "text": [
      "2869.9958824401015 2034.0497754893295\n",
      "2883.4350672834325 2064.3314201858975\n",
      "2746.458967081738 1982.136333952695\n",
      "2778.2344696272667 2161.761081299533\n",
      "2653.810992027463 2378.1099058846503\n"
     ]
    },
    {
     "name": "stderr",
     "output_type": "stream",
     "text": [
      "\n",
      "t:  70%|███████   | 882/1260 [00:40<00:18, 20.83it/s, now=None]\u001b[A\n",
      "t:  70%|███████   | 885/1260 [00:40<00:17, 21.70it/s, now=None]\u001b[A"
     ]
    },
    {
     "name": "stdout",
     "output_type": "stream",
     "text": [
      "2445.4629465306557 2251.332431457694\n",
      "2242.044633471554 2162.5735642679088\n",
      "2155.4594909283055 1980.2402867028552\n",
      "2075.7399276024926 2578.563274207394\n",
      "2020.6911059235817 3124.5810722213887\n"
     ]
    },
    {
     "name": "stderr",
     "output_type": "stream",
     "text": [
      "\n",
      "t:  70%|███████   | 888/1260 [00:40<00:17, 20.85it/s, now=None]\u001b[A\n",
      "t:  71%|███████   | 891/1260 [00:40<00:17, 21.25it/s, now=None]\u001b[A"
     ]
    },
    {
     "name": "stdout",
     "output_type": "stream",
     "text": [
      "1991.288927562699 1970.7399766948156\n",
      "1977.2140416580392 1956.5087454735756\n",
      "2002.0696792793312 2125.9131615243846\n",
      "1992.0125254686154 2175.872623181883\n",
      "1992.388241477709 2100.9401788689242\n"
     ]
    },
    {
     "name": "stderr",
     "output_type": "stream",
     "text": [
      "\n",
      "t:  71%|███████   | 894/1260 [00:41<00:16, 21.92it/s, now=None]\u001b[A"
     ]
    },
    {
     "name": "stdout",
     "output_type": "stream",
     "text": [
      "1931.9952827772665 2126.6246989646247\n",
      "1947.461307547683 1981.1902546723984\n",
      "1944.6816638700293 1961.2679772648492\n",
      "1994.0352321545276 2237.376544601666\n",
      "1964.2248924099993 2057.2876105413548\n"
     ]
    },
    {
     "name": "stderr",
     "output_type": "stream",
     "text": [
      "\n",
      "t:  71%|███████   | 897/1260 [00:41<00:17, 21.10it/s, now=None]\u001b[A\n",
      "t:  71%|███████▏  | 900/1260 [00:41<00:16, 21.37it/s, now=None]\u001b[A"
     ]
    },
    {
     "name": "stdout",
     "output_type": "stream",
     "text": [
      "2001.2115604847759 2080.747871650763\n",
      "2005.0535719476181 2120.443545945501\n",
      "1989.2332704983157 2188.8677753937177\n",
      "2048.0350682319804 2286.33213698335\n",
      "2143.415275957414 2666.26446393828\n"
     ]
    },
    {
     "name": "stderr",
     "output_type": "stream",
     "text": [
      "\n",
      "t:  72%|███████▏  | 903/1260 [00:41<00:16, 21.58it/s, now=None]\u001b[A\n",
      "t:  72%|███████▏  | 906/1260 [00:41<00:16, 21.99it/s, now=None]\u001b[A"
     ]
    },
    {
     "name": "stdout",
     "output_type": "stream",
     "text": [
      "2218.832343112733 3200.650231404255\n",
      "2193.5562517793933 3092.7658742788635\n",
      "2402.294819681356 3209.2631295729448\n",
      "2365.152039225063 3613.703944314708\n",
      "2284.9590631076558 3121.6972181149586\n"
     ]
    },
    {
     "name": "stderr",
     "output_type": "stream",
     "text": [
      "\n",
      "t:  72%|███████▏  | 909/1260 [00:41<00:16, 21.30it/s, now=None]\u001b[A"
     ]
    },
    {
     "name": "stdout",
     "output_type": "stream",
     "text": [
      "2369.485481046965 2479.061987929862\n",
      "2429.69448122917 2763.2954711678744\n",
      "2980.6029522090653 2387.9407869413476\n",
      "2749.354301806277 2579.9992080182965\n"
     ]
    },
    {
     "name": "stderr",
     "output_type": "stream",
     "text": [
      "\n",
      "t:  72%|███████▏  | 912/1260 [00:41<00:17, 20.05it/s, now=None]\u001b[A\n",
      "t:  73%|███████▎  | 915/1260 [00:42<00:16, 21.30it/s, now=None]\u001b[A"
     ]
    },
    {
     "name": "stdout",
     "output_type": "stream",
     "text": [
      "3523.3134683670237 2738.2880923397506\n",
      "3527.8061194486327 3029.9026944247676\n",
      "3493.8690819555695 3054.7656402148455\n",
      "3721.772503183359 3406.056570565034\n",
      "3742.841252539463 3309.4293405382327\n"
     ]
    },
    {
     "name": "stderr",
     "output_type": "stream",
     "text": [
      "\n",
      "t:  73%|███████▎  | 918/1260 [00:42<00:15, 22.61it/s, now=None]\u001b[A\n",
      "t:  73%|███████▎  | 921/1260 [00:42<00:14, 23.32it/s, now=None]\u001b[A"
     ]
    },
    {
     "name": "stdout",
     "output_type": "stream",
     "text": [
      "3698.3620182791883 2814.9002674025382\n",
      "3825.133766097573 2438.6310744646344\n",
      "3775.5487381408784 2048.8524717784353\n",
      "3227.6006682155507 2273.9964583159017\n",
      "3210.7816201032533 2576.493365067702\n",
      "2942.609702852908 2005.680400066856\n"
     ]
    },
    {
     "name": "stderr",
     "output_type": "stream",
     "text": [
      "\n",
      "t:  73%|███████▎  | 924/1260 [00:42<00:14, 22.87it/s, now=None]\u001b[A"
     ]
    },
    {
     "name": "stdout",
     "output_type": "stream",
     "text": [
      "2815.997339288194 1981.5337453025707\n",
      "2735.516471424224 2286.3576117184157\n",
      "2647.794243082515 2383.2568460711655\n",
      "2562.2115061786917 2518.8726377521607\n",
      "2573.2805851241765 2896.501202412742\n"
     ]
    },
    {
     "name": "stderr",
     "output_type": "stream",
     "text": [
      "\n",
      "t:  74%|███████▎  | 927/1260 [00:42<00:14, 22.78it/s, now=None]\u001b[A\n",
      "t:  74%|███████▍  | 930/1260 [00:42<00:14, 22.74it/s, now=None]\u001b[A"
     ]
    },
    {
     "name": "stdout",
     "output_type": "stream",
     "text": [
      "2467.1288707121985 2922.8498139923245\n",
      "2518.9922351675664 2826.976991157946\n",
      "2576.9905194581333 2694.3962128603384\n",
      "2337.7022362641364 2653.6862188191617\n",
      "2353.9621910189567 2854.7652340449854\n"
     ]
    },
    {
     "name": "stderr",
     "output_type": "stream",
     "text": [
      "\n",
      "t:  74%|███████▍  | 933/1260 [00:42<00:14, 22.56it/s, now=None]\u001b[A\n",
      "t:  74%|███████▍  | 936/1260 [00:43<00:14, 22.46it/s, now=None]\u001b[A"
     ]
    },
    {
     "name": "stdout",
     "output_type": "stream",
     "text": [
      "2264.7312532601145 3022.710375728276\n",
      "2574.180564016012 3038.3926575607156\n",
      "2765.42017022356 3907.5803427620704\n",
      "2811.2791157652086 3614.235963266785\n",
      "2885.9887760209326 3994.711860600775\n"
     ]
    },
    {
     "name": "stderr",
     "output_type": "stream",
     "text": [
      "\n",
      "t:  75%|███████▍  | 939/1260 [00:43<00:14, 22.32it/s, now=None]\u001b[A"
     ]
    },
    {
     "name": "stdout",
     "output_type": "stream",
     "text": [
      "3192.619665397052 4761.220316561168\n",
      "3128.6431226029213 4521.053318020828\n",
      "3260.7529211610163 4180.228097461678\n",
      "3330.275930399775 3758.5853844416424\n",
      "3395.1127411430516 3359.228458102771\n"
     ]
    },
    {
     "name": "stderr",
     "output_type": "stream",
     "text": [
      "\n",
      "t:  75%|███████▍  | 942/1260 [00:43<00:14, 22.24it/s, now=None]\u001b[A\n",
      "t:  75%|███████▌  | 945/1260 [00:43<00:13, 23.01it/s, now=None]\u001b[A"
     ]
    },
    {
     "name": "stdout",
     "output_type": "stream",
     "text": [
      "3501.0847133361763 2911.356540256184\n",
      "3389.5327751217587 2083.14839847787\n",
      "3114.2947766427146 2172.646012006918\n",
      "2824.3468568121534 2039.2929568153447\n",
      "3125.2119989535 2282.050894569558\n"
     ]
    },
    {
     "name": "stderr",
     "output_type": "stream",
     "text": [
      "\n",
      "t:  75%|███████▌  | 948/1260 [00:43<00:14, 22.01it/s, now=None]\u001b[A\n",
      "t:  75%|███████▌  | 951/1260 [00:43<00:13, 22.53it/s, now=None]\u001b[A"
     ]
    },
    {
     "name": "stdout",
     "output_type": "stream",
     "text": [
      "2990.660512702186 2292.841059182606\n",
      "2745.3235965910712 2520.198529100628\n",
      "2411.7932357007317 2767.8468868645887\n",
      "2744.588562624156 2584.6182208721048\n",
      "2653.653902975491 2900.629527402794\n"
     ]
    },
    {
     "name": "stderr",
     "output_type": "stream",
     "text": [
      "\n",
      "t:  76%|███████▌  | 954/1260 [00:43<00:13, 23.29it/s, now=None]\u001b[A"
     ]
    },
    {
     "name": "stdout",
     "output_type": "stream",
     "text": [
      "2410.678868985667 2583.1907652372556\n",
      "2432.533659263862 2546.7669673768773\n",
      "2535.5765219840127 2332.940504993752\n",
      "2398.291568170341 12637.82685759641\n",
      "2388.908278522611 3470.9171562619154\n"
     ]
    },
    {
     "name": "stderr",
     "output_type": "stream",
     "text": [
      "\n",
      "t:  76%|███████▌  | 957/1260 [00:43<00:13, 22.28it/s, now=None]\u001b[A\n",
      "t:  76%|███████▌  | 960/1260 [00:44<00:13, 22.07it/s, now=None]\u001b[A"
     ]
    },
    {
     "name": "stdout",
     "output_type": "stream",
     "text": [
      "2618.2362145732327 2638.3002003598504\n",
      "2493.389709426878 4772.126988541818\n",
      "2489.991869150104 1992.8202464032083\n",
      "2468.895285969813 2043.769109290866\n",
      "2344.4138004601314 2128.1249084107517\n"
     ]
    },
    {
     "name": "stderr",
     "output_type": "stream",
     "text": [
      "\n",
      "t:  76%|███████▋  | 963/1260 [00:44<00:13, 21.46it/s, now=None]\u001b[A\n",
      "t:  77%|███████▋  | 966/1260 [00:44<00:13, 21.30it/s, now=None]\u001b[A"
     ]
    },
    {
     "name": "stdout",
     "output_type": "stream",
     "text": [
      "2004.251370518983 2140.227114219364\n",
      "1985.2174482550347 2131.338438700235\n",
      "1951.3615548779808 1962.3404602507846\n",
      "1944.0059501731985 2157.956894126269\n",
      "1966.486011558037 13619.288532880728\n"
     ]
    },
    {
     "name": "stderr",
     "output_type": "stream",
     "text": [
      "\n",
      "t:  77%|███████▋  | 969/1260 [00:44<00:13, 21.04it/s, now=None]\u001b[A"
     ]
    },
    {
     "name": "stdout",
     "output_type": "stream",
     "text": [
      "1955.0731961824692 7116.663193751676\n",
      "2253.902041311994 1737.526084274433\n",
      "1964.4954672193344 1960.816029059329\n",
      "2240.3101610271224 3109.8482909603986\n",
      "2155.470197376539 2557.358546198528\n"
     ]
    },
    {
     "name": "stderr",
     "output_type": "stream",
     "text": [
      "\n",
      "t:  77%|███████▋  | 972/1260 [00:44<00:13, 21.13it/s, now=None]\u001b[A\n",
      "t:  77%|███████▋  | 975/1260 [00:44<00:13, 21.72it/s, now=None]\u001b[A"
     ]
    },
    {
     "name": "stdout",
     "output_type": "stream",
     "text": [
      "2343.2389735855472 6051.040617372574\n",
      "4381.087629016784 3432.5183680099935\n",
      "3441.1839782273773 2472.9055535526445\n",
      "3762.175251539051 2808.844983208084\n",
      "1938.341284559275 2155.5134054991036\n"
     ]
    },
    {
     "name": "stderr",
     "output_type": "stream",
     "text": [
      "\n",
      "t:  78%|███████▊  | 978/1260 [00:44<00:12, 22.79it/s, now=None]\u001b[A\n",
      "t:  78%|███████▊  | 981/1260 [00:45<00:12, 23.00it/s, now=None]\u001b[A"
     ]
    },
    {
     "name": "stdout",
     "output_type": "stream",
     "text": [
      "2152.8479159035724 3572.062281508213\n",
      "2074.5459142357463 5555.7278014731\n",
      "2013.5587176548754 2797.491036088161\n",
      "2218.554415306192 3580.486489778267\n",
      "3069.698547756554 3975.564440803827\n"
     ]
    },
    {
     "name": "stderr",
     "output_type": "stream",
     "text": [
      "\n",
      "t:  78%|███████▊  | 984/1260 [00:45<00:12, 22.81it/s, now=None]\u001b[A"
     ]
    },
    {
     "name": "stdout",
     "output_type": "stream",
     "text": [
      "2173.8539000263795 4981.175729796846\n",
      "1914.90136128666 3519.1631994256895\n",
      "2105.314185062681 4327.024235090201\n",
      "1953.0920389039225 3926.435320096269\n",
      "1958.1311104604774 3810.080230371652\n"
     ]
    },
    {
     "name": "stderr",
     "output_type": "stream",
     "text": [
      "\n",
      "t:  78%|███████▊  | 987/1260 [00:45<00:12, 22.31it/s, now=None]\u001b[A\n",
      "t:  79%|███████▊  | 990/1260 [00:45<00:12, 21.89it/s, now=None]\u001b[A"
     ]
    },
    {
     "name": "stdout",
     "output_type": "stream",
     "text": [
      "3561.3132132577116 4451.905372363074\n",
      "3374.583699246754 3380.9327546357435\n",
      "1878.0396889536714 2479.0540653634644\n",
      "2519.92823976044 241769.20164246004\n",
      "1821.8225113419999 2038.4475695825274\n"
     ]
    },
    {
     "name": "stderr",
     "output_type": "stream",
     "text": [
      "\n",
      "t:  79%|███████▉  | 993/1260 [00:45<00:12, 21.57it/s, now=None]\u001b[A\n",
      "t:  79%|███████▉  | 996/1260 [00:45<00:11, 22.75it/s, now=None]\u001b[A"
     ]
    },
    {
     "name": "stdout",
     "output_type": "stream",
     "text": [
      "3773.1305654010107 2514.8043554497262\n",
      "1953.1965574188291 2248.7639067011896\n",
      "1989.4180246852388 2044.4540253358127\n",
      "2813.157478892962 3727.7397776997686\n",
      "4974.510851830942 4459.248799106885\n"
     ]
    },
    {
     "name": "stderr",
     "output_type": "stream",
     "text": [
      "\n",
      "t:  79%|███████▉  | 999/1260 [00:45<00:10, 23.86it/s, now=None]\u001b[A"
     ]
    },
    {
     "name": "stdout",
     "output_type": "stream",
     "text": [
      "6832.829309791029 4743.84017685806\n",
      "9364.097257108677 4451.492009738219\n",
      "7217.942743957066 4116.235123117726\n",
      "5765.0140645489255 3959.4899575008835\n",
      "5033.307177031968 4046.2538715297233\n"
     ]
    },
    {
     "name": "stderr",
     "output_type": "stream",
     "text": [
      "\n",
      "t:  80%|███████▉  | 1002/1260 [00:45<00:11, 23.02it/s, now=None]\u001b[A\n",
      "t:  80%|███████▉  | 1005/1260 [00:46<00:11, 22.46it/s, now=None]\u001b[A"
     ]
    },
    {
     "name": "stdout",
     "output_type": "stream",
     "text": [
      "3023.4861158568087 5551.831132274296\n",
      "2920.0820599179483 5823.062579577779\n",
      "1888.4246218002863 4119.38758555876\n",
      "2078.2080657919664 3356.5304643169256\n",
      "1873.471865085974 4516.020549886754\n"
     ]
    },
    {
     "name": "stderr",
     "output_type": "stream",
     "text": [
      "\n",
      "t:  80%|████████  | 1008/1260 [00:46<00:10, 22.91it/s, now=None]\u001b[A\n",
      "t:  80%|████████  | 1011/1260 [00:46<00:10, 23.50it/s, now=None]\u001b[A"
     ]
    },
    {
     "name": "stdout",
     "output_type": "stream",
     "text": [
      "2150.6339751680434 2769.9400422515014\n",
      "1910.6332683318176 2414.824387310762\n",
      "10295.46987314756 4265.721586304919\n",
      "1896.8568120322204 3999.6683379417914\n",
      "1892.6515119550425 3620.8663952518696\n"
     ]
    },
    {
     "name": "stderr",
     "output_type": "stream",
     "text": [
      "\n",
      "t:  80%|████████  | 1014/1260 [00:46<00:10, 23.27it/s, now=None]\u001b[A"
     ]
    },
    {
     "name": "stdout",
     "output_type": "stream",
     "text": [
      "2415.1926431299994 3858.4701680091016\n",
      "1914.391223261082 3262.374299029116\n",
      "1864.9871021523188 3649.5625799364434\n",
      "2019.8051672978304 2995.696469760151\n",
      "2358.076075709102 2584.2796141431636\n"
     ]
    },
    {
     "name": "stderr",
     "output_type": "stream",
     "text": [
      "\n",
      "t:  81%|████████  | 1017/1260 [00:46<00:10, 22.85it/s, now=None]\u001b[A\n",
      "t:  81%|████████  | 1020/1260 [00:46<00:10, 22.47it/s, now=None]\u001b[A"
     ]
    },
    {
     "name": "stdout",
     "output_type": "stream",
     "text": [
      "2180.592537746182 2055.74335081158\n",
      "1887.0756521735495 2268.828771776294\n",
      "2012.2420634082284 1959.02317751898\n",
      "3506.209109412536 1961.5197827701659\n",
      "1827.6811824586039 1966.222445358992\n"
     ]
    },
    {
     "name": "stderr",
     "output_type": "stream",
     "text": [
      "\n",
      "t:  81%|████████  | 1023/1260 [00:46<00:10, 21.61it/s, now=None]\u001b[A"
     ]
    },
    {
     "name": "stdout",
     "output_type": "stream",
     "text": [
      "2537.3650804074664 2603.5422559520503\n",
      "2337.206035141045 2275.2694388828368\n",
      "2553.3778756472875 2285.5769149407806\n",
      "2069.495161026157 2360.3119024872913\n"
     ]
    },
    {
     "name": "stderr",
     "output_type": "stream",
     "text": [
      "\n",
      "t:  81%|████████▏ | 1026/1260 [00:47<00:11, 20.56it/s, now=None]\u001b[A\n",
      "t:  82%|████████▏ | 1029/1260 [00:47<00:11, 20.64it/s, now=None]\u001b[A"
     ]
    },
    {
     "name": "stdout",
     "output_type": "stream",
     "text": [
      "3500.915101645928 2459.009469559798\n",
      "3695.4281779358303 2141.896977476584\n",
      "2613.04927856859 6260.4411640300095\n",
      "2782.159418966476 4971.2185880761235\n",
      "3141.816866396376 7792.913251140503\n"
     ]
    },
    {
     "name": "stderr",
     "output_type": "stream",
     "text": [
      "\n",
      "t:  82%|████████▏ | 1032/1260 [00:47<00:10, 20.88it/s, now=None]\u001b[A\n"
     ]
    },
    {
     "name": "stdout",
     "output_type": "stream",
     "text": [
      "3644.505183995133 11955.210036288654\n",
      "2398.9040751698153 14334.216180801124\n",
      "2633.4880163311327 15382.051938939127\n",
      "4920.6055209369515 16376.953675130537\n",
      "5384.134591515403 15011.950545725098\n"
     ]
    },
    {
     "name": "stderr",
     "output_type": "stream",
     "text": [
      "t:  82%|████████▏ | 1035/1260 [00:47<00:10, 20.66it/s, now=None]\u001b[A\n",
      "t:  82%|████████▏ | 1038/1260 [00:47<00:11, 20.16it/s, now=None]\u001b[A"
     ]
    },
    {
     "name": "stdout",
     "output_type": "stream",
     "text": [
      "4336.668027998876 23039.162204444747\n",
      "8710.103517941521 16848.049087040497\n",
      "6421.591661267928 19931.042232631404\n",
      "5401.053903411982 74050.74690782317\n",
      "5187.538913725659 13349.044790711001\n"
     ]
    },
    {
     "name": "stderr",
     "output_type": "stream",
     "text": [
      "\n",
      "t:  83%|████████▎ | 1041/1260 [00:47<00:10, 20.73it/s, now=None]\u001b[A\n",
      "t:  83%|████████▎ | 1044/1260 [00:47<00:10, 19.66it/s, now=None]\u001b[A"
     ]
    },
    {
     "name": "stdout",
     "output_type": "stream",
     "text": [
      "6863.84395220131 11999.69664224487\n",
      "6247.495616448813 8109.661297718689\n",
      "4366.5423397020495 4985.727369667315\n",
      "4119.32020511185 7423.015259616979\n"
     ]
    },
    {
     "name": "stderr",
     "output_type": "stream",
     "text": [
      "\n",
      "t:  83%|████████▎ | 1046/1260 [00:48<00:11, 18.85it/s, now=None]\u001b[A\n",
      "t:  83%|████████▎ | 1048/1260 [00:48<00:11, 17.83it/s, now=None]\u001b[A"
     ]
    },
    {
     "name": "stdout",
     "output_type": "stream",
     "text": [
      "4790.553509516369 7185.984252550551\n",
      "3785.378274520007 8422.23613684883\n",
      "6408.271169273324 9716.79483808796\n",
      "5027.215692628668 6142.505457381942\n"
     ]
    },
    {
     "name": "stderr",
     "output_type": "stream",
     "text": [
      "\n",
      "t:  83%|████████▎ | 1051/1260 [00:48<00:11, 18.86it/s, now=None]\u001b[A"
     ]
    },
    {
     "name": "stdout",
     "output_type": "stream",
     "text": [
      "4013.094258173049 9131.405658933178\n",
      "3596.7904074441244 7271.013614482199\n",
      "3333.1251768242782 4951.874025127466\n",
      "2377.0916174063627 2105.074533831394\n"
     ]
    },
    {
     "name": "stderr",
     "output_type": "stream",
     "text": [
      "\n",
      "t:  84%|████████▎ | 1053/1260 [00:48<00:11, 18.21it/s, now=None]\u001b[A\n",
      "t:  84%|████████▎ | 1055/1260 [00:48<00:11, 17.96it/s, now=None]\u001b[A"
     ]
    },
    {
     "name": "stdout",
     "output_type": "stream",
     "text": [
      "2027.8676793329382 1994.6585967356054\n",
      "2226.1313323392437 2708.96277009538\n",
      "2322.0114380529208 2069.9213248051647\n",
      "2176.1855162330166 2946.696082084465\n"
     ]
    },
    {
     "name": "stderr",
     "output_type": "stream",
     "text": [
      "\n",
      "t:  84%|████████▍ | 1057/1260 [00:48<00:10, 18.49it/s, now=None]\u001b[A\n",
      "t:  84%|████████▍ | 1060/1260 [00:48<00:10, 19.23it/s, now=None]\u001b[A"
     ]
    },
    {
     "name": "stdout",
     "output_type": "stream",
     "text": [
      "2183.6987399471573 2693.9188329211534\n",
      "2192.968043143185 3290.4869116565787\n",
      "2237.630562049981 3167.2123457526254\n",
      "2297.1036544926365 4096.423079439876\n",
      "2450.5267992229524 4175.021612141486\n"
     ]
    },
    {
     "name": "stderr",
     "output_type": "stream",
     "text": [
      "\n",
      "t:  84%|████████▍ | 1063/1260 [00:48<00:09, 19.97it/s, now=None]\u001b[A\n",
      "t:  85%|████████▍ | 1066/1260 [00:49<00:09, 21.11it/s, now=None]\u001b[A"
     ]
    },
    {
     "name": "stdout",
     "output_type": "stream",
     "text": [
      "2620.0329888683495 5279.108839805587\n",
      "2639.4614317674027 4552.68308396918\n",
      "2393.17670513445 3546.205759493899\n",
      "2171.6680254219586 2758.9800998966484\n",
      "2057.9272523089057 2241.146558846881\n"
     ]
    },
    {
     "name": "stderr",
     "output_type": "stream",
     "text": [
      "\n",
      "t:  85%|████████▍ | 1069/1260 [00:49<00:08, 21.47it/s, now=None]\u001b[A"
     ]
    },
    {
     "name": "stdout",
     "output_type": "stream",
     "text": [
      "1970.7096321837898 2014.951482559133\n",
      "2002.3769576212098 2434.7143151284486\n",
      "2031.6283508710135 2458.1802721892\n",
      "2028.0389328958572 2912.364372532729\n",
      "2165.5156694830753 2621.263178329212\n"
     ]
    },
    {
     "name": "stderr",
     "output_type": "stream",
     "text": [
      "\n",
      "t:  85%|████████▌ | 1072/1260 [00:49<00:09, 20.76it/s, now=None]\u001b[A\n",
      "t:  85%|████████▌ | 1075/1260 [00:49<00:09, 20.37it/s, now=None]\u001b[A"
     ]
    },
    {
     "name": "stdout",
     "output_type": "stream",
     "text": [
      "2073.4836493059315 2899.236644101175\n",
      "2133.149956743212 1999.648709782327\n",
      "2031.160566388298 2588.683387581865\n",
      "2053.5703770108144 2123.6493911608572\n",
      "2209.3100019124927 2153.63186768999\n"
     ]
    },
    {
     "name": "stderr",
     "output_type": "stream",
     "text": [
      "\n",
      "t:  86%|████████▌ | 1078/1260 [00:49<00:08, 20.87it/s, now=None]\u001b[A"
     ]
    },
    {
     "name": "stdout",
     "output_type": "stream",
     "text": [
      "2182.6056767224195 2048.099846548318\n",
      "2510.860098384149 2303.9125826340987\n",
      "2552.6800118036094 2803.9976016435517\n",
      "2451.0349278557096 2297.7289095199944\n"
     ]
    },
    {
     "name": "stderr",
     "output_type": "stream",
     "text": [
      "\n",
      "t:  86%|████████▌ | 1081/1260 [00:49<00:08, 20.12it/s, now=None]\u001b[A\n",
      "t:  86%|████████▌ | 1084/1260 [00:49<00:08, 20.57it/s, now=None]\u001b[A"
     ]
    },
    {
     "name": "stdout",
     "output_type": "stream",
     "text": [
      "2451.4996179299087 2712.6688061821787\n",
      "2273.91006581192 2063.9951738705295\n",
      "2379.6577499824602 2301.443865545288\n",
      "2388.0387348074278 3166.82294097971\n"
     ]
    },
    {
     "name": "stderr",
     "output_type": "stream",
     "text": [
      "\n",
      "t:  86%|████████▋ | 1087/1260 [00:50<00:08, 20.47it/s, now=None]\u001b[A"
     ]
    },
    {
     "name": "stdout",
     "output_type": "stream",
     "text": [
      "2209.408215874252 2751.418952419258\n",
      "2135.021553673505 2151.8555247111412\n",
      "2062.8197575819386 1985.2986361886751\n",
      "2019.031955120728 2575.253034576334\n",
      "2020.1427606849174 2124.4324722342703\n"
     ]
    },
    {
     "name": "stderr",
     "output_type": "stream",
     "text": [
      "\n",
      "t:  87%|████████▋ | 1090/1260 [00:50<00:07, 21.62it/s, now=None]\u001b[A\n",
      "t:  87%|████████▋ | 1093/1260 [00:50<00:07, 21.40it/s, now=None]\u001b[A"
     ]
    },
    {
     "name": "stdout",
     "output_type": "stream",
     "text": [
      "1939.5177132295005 2152.302253899515\n",
      "1933.0113309668036 2401.0959349808113\n",
      "1922.4152337571284 2633.1002906220697\n",
      "1945.3442599261177 2741.532303529578\n",
      "1913.4064972837919 2401.0074999112794\n"
     ]
    },
    {
     "name": "stderr",
     "output_type": "stream",
     "text": [
      "\n",
      "t:  87%|████████▋ | 1096/1260 [00:50<00:07, 20.98it/s, now=None]\u001b[A"
     ]
    },
    {
     "name": "stdout",
     "output_type": "stream",
     "text": [
      "1939.0849327782303 2177.1046130945633\n",
      "1913.924248053144 4965.581076926425\n",
      "1920.0165795694313 5253.6927889337385\n",
      "1980.397187988958 2435.1686030659253\n"
     ]
    },
    {
     "name": "stderr",
     "output_type": "stream",
     "text": [
      "\n",
      "t:  87%|████████▋ | 1099/1260 [00:50<00:08, 19.81it/s, now=None]\u001b[A\n",
      "t:  87%|████████▋ | 1102/1260 [00:50<00:07, 21.39it/s, now=None]\u001b[A"
     ]
    },
    {
     "name": "stdout",
     "output_type": "stream",
     "text": [
      "1966.8209644395079 2059.777274730206\n",
      "1955.1142628658156 2009.2337262882586\n",
      "2027.1995578198992 2047.4953328542708\n",
      "2072.1460869905395 2221.7776901921375\n",
      "1925.7572887890703 2055.6303441346904\n"
     ]
    },
    {
     "name": "stderr",
     "output_type": "stream",
     "text": [
      "\n",
      "t:  88%|████████▊ | 1105/1260 [00:50<00:07, 20.03it/s, now=None]\u001b[A\n",
      "t:  88%|████████▊ | 1108/1260 [00:51<00:07, 20.44it/s, now=None]\u001b[A"
     ]
    },
    {
     "name": "stdout",
     "output_type": "stream",
     "text": [
      "2004.6186793532738 1977.180236385614\n",
      "1960.2154386076857 1990.5811572877233\n",
      "1972.1990643543588 2181.6805920708357\n",
      "1992.0498292337963 2848.4730349667166\n",
      "2016.209907612854 2311.972254835848\n"
     ]
    },
    {
     "name": "stderr",
     "output_type": "stream",
     "text": [
      "\n",
      "t:  88%|████████▊ | 1111/1260 [00:51<00:07, 20.77it/s, now=None]\u001b[A"
     ]
    },
    {
     "name": "stdout",
     "output_type": "stream",
     "text": [
      "1973.8492499504357 2735.912976410101\n",
      "1935.2899921779765 2832.9148631348794\n",
      "1997.1856116250392 2446.104386671647\n",
      "1914.4117143138858 3711.1639270846886\n",
      "1906.1685712941253 3583.7931828073615\n"
     ]
    },
    {
     "name": "stderr",
     "output_type": "stream",
     "text": [
      "\n",
      "t:  88%|████████▊ | 1114/1260 [00:51<00:06, 22.01it/s, now=None]\u001b[A\n",
      "t:  89%|████████▊ | 1117/1260 [00:51<00:06, 22.37it/s, now=None]\u001b[A"
     ]
    },
    {
     "name": "stdout",
     "output_type": "stream",
     "text": [
      "1903.8102850712212 4293.807668505191\n",
      "1898.5943197928102 4719.733056165048\n",
      "1897.315042148661 4429.087847102732\n",
      "2000.2780038960782 3827.7685006556994\n",
      "2095.4000794815897 2812.2678464034707\n"
     ]
    },
    {
     "name": "stderr",
     "output_type": "stream",
     "text": [
      "\n",
      "t:  89%|████████▉ | 1120/1260 [00:51<00:06, 22.77it/s, now=None]\u001b[A\n",
      "t:  89%|████████▉ | 1123/1260 [00:51<00:05, 23.35it/s, now=None]\u001b[A"
     ]
    },
    {
     "name": "stdout",
     "output_type": "stream",
     "text": [
      "2163.0113040150745 2089.549079142658\n",
      "2058.2270568984995 2032.2680778898734\n",
      "2105.8113026578176 2097.7637018510604\n",
      "2182.8109823214695 1965.3302093852242\n",
      "1971.4983029036798 2014.721460382917\n",
      "1941.673015401459 2005.0014648812482\n"
     ]
    },
    {
     "name": "stderr",
     "output_type": "stream",
     "text": [
      "\n",
      "t:  89%|████████▉ | 1126/1260 [00:51<00:05, 22.37it/s, now=None]\u001b[A\n",
      "t:  90%|████████▉ | 1129/1260 [00:52<00:05, 22.80it/s, now=None]\u001b[A"
     ]
    },
    {
     "name": "stdout",
     "output_type": "stream",
     "text": [
      "2207.8701701305386 1978.755925724144\n",
      "2207.537886455156 1965.0749687339978\n",
      "2302.935266278925 2068.0879621681615\n",
      "2393.790486524764 2286.8865657283886\n",
      "2228.320255605511 2405.6308449497997\n"
     ]
    },
    {
     "name": "stderr",
     "output_type": "stream",
     "text": [
      "\n",
      "t:  90%|████████▉ | 1132/1260 [00:52<00:05, 22.23it/s, now=None]\u001b[A"
     ]
    },
    {
     "name": "stdout",
     "output_type": "stream",
     "text": [
      "2302.0530480475704 2005.7080509107177\n",
      "2169.0423448944425 1983.5295807000587\n",
      "2036.0070392728016 2020.2300365472731\n",
      "2215.5958621532723 2039.7437790430795\n",
      "2025.1094659657465 1991.1957157017453\n"
     ]
    },
    {
     "name": "stderr",
     "output_type": "stream",
     "text": [
      "\n",
      "t:  90%|█████████ | 1135/1260 [00:52<00:05, 22.36it/s, now=None]\u001b[A\n",
      "t:  90%|█████████ | 1138/1260 [00:52<00:05, 21.62it/s, now=None]\u001b[A"
     ]
    },
    {
     "name": "stdout",
     "output_type": "stream",
     "text": [
      "1970.0553678114595 1988.2555448675655\n",
      "2002.6574870500606 2315.7293228185545\n",
      "1953.567596915029 2434.069895987097\n",
      "1976.3605436429923 2705.7568852456084\n",
      "1964.7539325211546 2632.5472147236983\n"
     ]
    },
    {
     "name": "stderr",
     "output_type": "stream",
     "text": [
      "\n",
      "t:  91%|█████████ | 1141/1260 [00:52<00:05, 21.72it/s, now=None]\u001b[A\n",
      "t:  91%|█████████ | 1144/1260 [00:52<00:05, 22.10it/s, now=None]\u001b[A"
     ]
    },
    {
     "name": "stdout",
     "output_type": "stream",
     "text": [
      "1943.9900577151798 2323.854652289145\n",
      "1955.7354905034697 2040.2316587348193\n",
      "1899.467292723524 1969.1367990388567\n",
      "1937.1738074216496 2123.1060950054894\n",
      "1962.3796748822065 2200.8924595353433\n"
     ]
    },
    {
     "name": "stderr",
     "output_type": "stream",
     "text": [
      "\n",
      "t:  91%|█████████ | 1147/1260 [00:52<00:05, 21.76it/s, now=None]\u001b[A"
     ]
    },
    {
     "name": "stdout",
     "output_type": "stream",
     "text": [
      "1921.0260925420403 2292.932807373891\n",
      "1983.8305952099927 3046.622180350078\n",
      "1959.597047049572 2795.693327800142\n",
      "2081.1217568136854 3205.519878436093\n",
      "2259.4138733934105 3256.1243488872146\n"
     ]
    },
    {
     "name": "stderr",
     "output_type": "stream",
     "text": [
      "\n",
      "t:  91%|█████████▏| 1150/1260 [00:52<00:04, 22.89it/s, now=None]\u001b[A\n",
      "t:  92%|█████████▏| 1153/1260 [00:53<00:04, 23.21it/s, now=None]\u001b[A"
     ]
    },
    {
     "name": "stdout",
     "output_type": "stream",
     "text": [
      "2203.504035182503 2601.0343702037662\n",
      "2731.4761002925393 2728.4715692057944\n",
      "2587.0669634994497 2947.6882133835006\n",
      "2622.2444785854264 2224.0767983992855\n",
      "2873.609886524684 2223.3721984396025\n"
     ]
    },
    {
     "name": "stderr",
     "output_type": "stream",
     "text": [
      "\n",
      "t:  92%|█████████▏| 1156/1260 [00:53<00:04, 23.40it/s, now=None]\u001b[A"
     ]
    },
    {
     "name": "stdout",
     "output_type": "stream",
     "text": [
      "2574.7728903091465 2039.6295801640044\n",
      "2871.826467054777 2361.4912969424095\n",
      "2886.250611522133 2448.9977842254198\n",
      "2911.628924750099 2118.9212916590413\n"
     ]
    },
    {
     "name": "stderr",
     "output_type": "stream",
     "text": [
      "\n",
      "t:  92%|█████████▏| 1159/1260 [00:53<00:04, 22.13it/s, now=None]\u001b[A\n",
      "t:  92%|█████████▏| 1162/1260 [00:53<00:04, 23.11it/s, now=None]\u001b[A"
     ]
    },
    {
     "name": "stdout",
     "output_type": "stream",
     "text": [
      "2934.3377480678114 2331.3669783786395\n",
      "2954.2934744027025 2405.3057500421055\n",
      "2866.7053169574037 3178.5325104576764\n",
      "2849.703150337853 3469.793869100471\n",
      "2632.10608659702 3831.009672471056\n"
     ]
    },
    {
     "name": "stderr",
     "output_type": "stream",
     "text": [
      "\n",
      "t:  92%|█████████▏| 1165/1260 [00:53<00:04, 22.41it/s, now=None]\u001b[A\n",
      "t:  93%|█████████▎| 1168/1260 [00:53<00:04, 21.83it/s, now=None]\u001b[A"
     ]
    },
    {
     "name": "stdout",
     "output_type": "stream",
     "text": [
      "2572.7230562809104 2913.5406531631484\n",
      "2372.8085090037225 2653.3142616058767\n",
      "2238.841727502636 2572.526494663927\n",
      "2176.6823532833787 2322.284070751114\n",
      "2036.2985947337866 2121.0245508041035\n"
     ]
    },
    {
     "name": "stderr",
     "output_type": "stream",
     "text": [
      "\n",
      "t:  93%|█████████▎| 1171/1260 [00:53<00:04, 22.07it/s, now=None]\u001b[A"
     ]
    },
    {
     "name": "stdout",
     "output_type": "stream",
     "text": [
      "2074.2384091638464 2137.701614846213\n",
      "2061.2991926797486 2668.7984877296117\n",
      "2007.884173553901 2629.3674973614975\n",
      "1964.0023737447764 3569.311133481665\n",
      "1950.8960021668217 3612.5196349104035\n"
     ]
    },
    {
     "name": "stderr",
     "output_type": "stream",
     "text": [
      "\n",
      "t:  93%|█████████▎| 1174/1260 [00:54<00:03, 22.41it/s, now=None]\u001b[A\n",
      "t:  93%|█████████▎| 1177/1260 [00:54<00:03, 23.18it/s, now=None]\u001b[A"
     ]
    },
    {
     "name": "stdout",
     "output_type": "stream",
     "text": [
      "1937.300749610639 3099.850485901464\n",
      "1938.3753115230525 2265.3185203546063\n",
      "1937.109591344854 2058.030452998899\n",
      "1932.2063169033925 2027.9209322838112\n",
      "1962.4289580468735 1980.8868802865975\n"
     ]
    },
    {
     "name": "stderr",
     "output_type": "stream",
     "text": [
      "\n",
      "t:  94%|█████████▎| 1180/1260 [00:54<00:03, 23.35it/s, now=None]\u001b[A\n",
      "t:  94%|█████████▍| 1183/1260 [00:54<00:03, 23.32it/s, now=None]\u001b[A"
     ]
    },
    {
     "name": "stdout",
     "output_type": "stream",
     "text": [
      "1930.2657171920428 2002.3954861838267\n",
      "1932.8323125562945 1992.6285819986415\n",
      "1996.9034214141777 2103.569043367099\n",
      "1940.693630964443 2255.0503413618576\n",
      "2143.5822556189073 2454.393372925203\n"
     ]
    },
    {
     "name": "stderr",
     "output_type": "stream",
     "text": [
      "\n",
      "t:  94%|█████████▍| 1186/1260 [00:54<00:03, 22.37it/s, now=None]\u001b[A"
     ]
    },
    {
     "name": "stdout",
     "output_type": "stream",
     "text": [
      "2173.10742832483 2293.293200251374\n",
      "2279.378987556518 2734.336180954599\n",
      "2433.2267446337446 3191.077414341355\n",
      "2477.5788239889966 2244.953256782208\n",
      "2559.649994388629 2218.0501312456204\n"
     ]
    },
    {
     "name": "stderr",
     "output_type": "stream",
     "text": [
      "\n",
      "t:  94%|█████████▍| 1189/1260 [00:54<00:03, 22.62it/s, now=None]\u001b[A\n",
      "t:  95%|█████████▍| 1192/1260 [00:54<00:03, 22.00it/s, now=None]\u001b[A"
     ]
    },
    {
     "name": "stdout",
     "output_type": "stream",
     "text": [
      "2569.4977664344688 1994.9074936421343\n",
      "2529.459526707382 2169.883625262618\n",
      "2623.218865001755 1973.32308729932\n",
      "2613.0801616400267 2094.5054243551813\n",
      "2571.8815529197027 2653.124714468457\n"
     ]
    },
    {
     "name": "stderr",
     "output_type": "stream",
     "text": [
      "\n",
      "t:  95%|█████████▍| 1195/1260 [00:55<00:03, 20.88it/s, now=None]\u001b[A\n",
      "t:  95%|█████████▌| 1198/1260 [00:55<00:02, 20.83it/s, now=None]\u001b[A"
     ]
    },
    {
     "name": "stdout",
     "output_type": "stream",
     "text": [
      "2764.3492407053927 3569.041538067156\n",
      "2819.6766352008253 3153.5563702072177\n",
      "2899.815806676839 3376.1173095044915\n",
      "2954.9477953223272 3193.3603010026322\n",
      "2657.3500727086957 2966.9603412610763\n"
     ]
    },
    {
     "name": "stderr",
     "output_type": "stream",
     "text": [
      "\n",
      "t:  95%|█████████▌| 1201/1260 [00:55<00:02, 20.94it/s, now=None]\u001b[A"
     ]
    },
    {
     "name": "stdout",
     "output_type": "stream",
     "text": [
      "2481.0377078940846 2699.7407437222305\n",
      "2473.975133948341 2486.7011100314025\n",
      "2387.8355603571213 2472.0118565841713\n",
      "2373.3055438004635 2370.145218781879\n",
      "2554.9762283946866 2656.2145943439564\n"
     ]
    },
    {
     "name": "stderr",
     "output_type": "stream",
     "text": [
      "\n",
      "t:  96%|█████████▌| 1204/1260 [00:55<00:02, 20.88it/s, now=None]\u001b[A\n",
      "t:  96%|█████████▌| 1207/1260 [00:55<00:02, 21.03it/s, now=None]\u001b[A"
     ]
    },
    {
     "name": "stdout",
     "output_type": "stream",
     "text": [
      "2633.4384826734768 3117.2709688893297\n",
      "2620.7168010031387 3223.568833894047\n",
      "2611.6400494172644 3497.2533685689828\n",
      "2845.4961443646307 5081.757846779062\n",
      "2820.567698583934 6082.2191903422545\n"
     ]
    },
    {
     "name": "stderr",
     "output_type": "stream",
     "text": [
      "\n",
      "t:  96%|█████████▌| 1210/1260 [00:55<00:02, 21.39it/s, now=None]\u001b[A\n",
      "t:  96%|█████████▋| 1213/1260 [00:55<00:02, 21.55it/s, now=None]\u001b[A"
     ]
    },
    {
     "name": "stdout",
     "output_type": "stream",
     "text": [
      "2622.3439169002822 5272.600471951493\n",
      "2956.514962692507 2790.7102269948064\n",
      "2644.3378175307416 3387.5813996821116\n",
      "2579.6623858637045 2986.349505402726\n",
      "2463.133226513863 2194.716774846004\n"
     ]
    },
    {
     "name": "stderr",
     "output_type": "stream",
     "text": [
      "\n",
      "t:  97%|█████████▋| 1216/1260 [00:55<00:01, 22.85it/s, now=None]\u001b[A"
     ]
    },
    {
     "name": "stdout",
     "output_type": "stream",
     "text": [
      "2223.6747602163723 2639.189770182041\n",
      "2165.863593814439 2341.4778504602614\n",
      "2101.482617860201 2224.045151048902\n",
      "2024.661229578874 2322.9973645087716\n",
      "2089.1356065013865 2320.8796880873624\n"
     ]
    },
    {
     "name": "stderr",
     "output_type": "stream",
     "text": [
      "\n",
      "t:  97%|█████████▋| 1219/1260 [00:56<00:01, 22.45it/s, now=None]\u001b[A\n",
      "t:  97%|█████████▋| 1222/1260 [00:56<00:01, 23.49it/s, now=None]\u001b[A"
     ]
    },
    {
     "name": "stdout",
     "output_type": "stream",
     "text": [
      "2017.7696557515724 2290.6561507357524\n",
      "1992.3158965018604 2082.949391637423\n",
      "2096.0611888572084 2454.183491716681\n",
      "2011.7363059011477 2565.959577261305\n",
      "2169.250813745406 2597.02793166129\n"
     ]
    },
    {
     "name": "stderr",
     "output_type": "stream",
     "text": [
      "\n",
      "t:  97%|█████████▋| 1225/1260 [00:56<00:01, 23.08it/s, now=None]\u001b[A\n",
      "t:  97%|█████████▋| 1228/1260 [00:56<00:01, 23.50it/s, now=None]\u001b[A"
     ]
    },
    {
     "name": "stdout",
     "output_type": "stream",
     "text": [
      "2053.6589080208805 3749.047185171274\n",
      "2001.2192205031681 2856.1776460433593\n",
      "2024.3990536262252 2241.5646957246613\n",
      "1979.504743420184 2605.1861641224855\n",
      "1943.1283705402436 2563.9895204824597\n"
     ]
    },
    {
     "name": "stderr",
     "output_type": "stream",
     "text": [
      "\n",
      "t:  98%|█████████▊| 1231/1260 [00:56<00:01, 23.41it/s, now=None]\u001b[A"
     ]
    },
    {
     "name": "stdout",
     "output_type": "stream",
     "text": [
      "1917.9223370552672 2095.4959576711008\n",
      "1987.4491632913703 2020.1556350000349\n",
      "2116.319178469007 2179.3916533990637\n",
      "2100.102834979636 2002.7357388300152\n",
      "2099.958182924003 2498.6624334114954\n"
     ]
    },
    {
     "name": "stderr",
     "output_type": "stream",
     "text": [
      "\n",
      "t:  98%|█████████▊| 1234/1260 [00:56<00:01, 23.55it/s, now=None]\u001b[A\n",
      "t:  98%|█████████▊| 1237/1260 [00:56<00:00, 23.29it/s, now=None]\u001b[A"
     ]
    },
    {
     "name": "stdout",
     "output_type": "stream",
     "text": [
      "2086.249735854664 5062.9912698229155\n",
      "2607.0208369667157 2881.375276208991\n",
      "2442.50978356854 2050.2606992440615\n",
      "2915.032570764835 3255.6498719148194\n",
      "3531.9992945856047 2542.306456623192\n"
     ]
    },
    {
     "name": "stderr",
     "output_type": "stream",
     "text": [
      "\n",
      "t:  98%|█████████▊| 1240/1260 [00:56<00:00, 23.71it/s, now=None]\u001b[A\n",
      "t:  99%|█████████▊| 1243/1260 [00:57<00:00, 23.48it/s, now=None]\u001b[A"
     ]
    },
    {
     "name": "stdout",
     "output_type": "stream",
     "text": [
      "2712.1783325900765 6848.948960892498\n",
      "2585.680590262236 3111.8968905210822\n",
      "2463.4039582979913 4870.45937332981\n",
      "2795.2746942093563 2092.1582931128355\n",
      "2667.3924333385594 1757.1107116592161\n"
     ]
    },
    {
     "name": "stderr",
     "output_type": "stream",
     "text": [
      "\n",
      "t:  99%|█████████▉| 1246/1260 [00:57<00:00, 22.81it/s, now=None]\u001b[A"
     ]
    },
    {
     "name": "stdout",
     "output_type": "stream",
     "text": [
      "2943.669355838265 1754.1497767062704\n",
      "2783.92318598359 70543.04886752935\n",
      "3025.3469826570254 24504.884710432303\n",
      "2803.741665037599 2479.859784224444\n"
     ]
    },
    {
     "name": "stderr",
     "output_type": "stream",
     "text": [
      "\n",
      "t:  99%|█████████▉| 1249/1260 [00:57<00:00, 21.78it/s, now=None]\u001b[A\n",
      "t:  99%|█████████▉| 1252/1260 [00:57<00:00, 22.17it/s, now=None]\u001b[A"
     ]
    },
    {
     "name": "stdout",
     "output_type": "stream",
     "text": [
      "2948.228268434434 2542.157958102414\n",
      "3386.1257776011134 2382.941083993052\n",
      "5779.396826414644 2700.527568462966\n",
      "8236.651849718268 12806.217395664245\n",
      "7606.430698364705 11613.511889163925\n"
     ]
    },
    {
     "name": "stderr",
     "output_type": "stream",
     "text": [
      "\n",
      "t: 100%|█████████▉| 1255/1260 [00:57<00:00, 21.77it/s, now=None]\u001b[A"
     ]
    },
    {
     "name": "stdout",
     "output_type": "stream",
     "text": [
      "7784.717817769646 4430.980790265205\n",
      "50816.408112241006 2935.945370172255\n",
      "7044.863798219479 4122.465743223974\n",
      "4710.716579673798 2749.604846281295\n",
      "15688.144214350223 1964.650423154013\n"
     ]
    },
    {
     "name": "stderr",
     "output_type": "stream",
     "text": [
      "\n",
      "t: 100%|█████████▉| 1258/1260 [00:57<00:00, 21.40it/s, now=None]\u001b[A\n",
      "                                                                \u001b[A"
     ]
    },
    {
     "name": "stdout",
     "output_type": "stream",
     "text": [
      "202875.99743844598 1856.3826459805464\n",
      "10983.859735668933 1858.6068122817426\n",
      "58345.914974704756 1905.9060112376665\n",
      "50560.6665357941 2018.455779438371\n"
     ]
    },
    {
     "name": "stderr",
     "output_type": "stream",
     "text": [
      "t:   0%|          | 2/1260 [03:39<38:17:23, 109.57s/it, now=None]"
     ]
    },
    {
     "name": "stdout",
     "output_type": "stream",
     "text": [
      "Moviepy - Done !\n",
      "Moviepy - video ready output_videos/project_video.mp4\n",
      "CPU times: user 9min 8s, sys: 1min 11s, total: 10min 20s\n",
      "Wall time: 58.3 s\n"
     ]
    }
   ],
   "source": [
    "# Import everything needed to edit/save/watch video clips\n",
    "from moviepy.editor import VideoFileClip\n",
    "from IPython.display import HTML\n",
    "def process_image(img):\n",
    "    # NOTE: The output you return should be a color image (3 channel) for processing video below\n",
    "    # TODO: put your pipeline here,\n",
    "    # you should return the final output (image where lines are drawn on lanes)\n",
    "    result = lane_detection(img)\n",
    "    return result\n",
    "\n",
    "output = 'output_videos/project_video.mp4'\n",
    "## To speed up the testing process you may want to try your pipeline on a shorter subclip of the video\n",
    "## To do so add .subclip(start_second,end_second) to the end of the line below\n",
    "## Where start_second and end_second are integer values representing the start and end of the subclip\n",
    "## You may also uncomment the following line for a subclip of the first 5 seconds\n",
    "##clip1 = VideoFileClip(\"test_videos/solidWhiteRight.mp4\").subclip(0,5)\n",
    "clip1 = VideoFileClip(\"project_video.mp4\")\n",
    "white_clip = clip1.fl_image(process_image) #NOTE: this function expects color images!!\n",
    "%time white_clip.write_videofile(output, audio=False)"
   ]
  },
  {
   "cell_type": "code",
   "execution_count": null,
   "metadata": {},
   "outputs": [],
   "source": []
  }
 ],
 "metadata": {
  "anaconda-cloud": {},
  "kernelspec": {
   "display_name": "Python 3",
   "language": "python",
   "name": "python3"
  },
  "language_info": {
   "codemirror_mode": {
    "name": "ipython",
    "version": 3
   },
   "file_extension": ".py",
   "mimetype": "text/x-python",
   "name": "python",
   "nbconvert_exporter": "python",
   "pygments_lexer": "ipython3",
   "version": "3.6.10"
  }
 },
 "nbformat": 4,
 "nbformat_minor": 1
}
